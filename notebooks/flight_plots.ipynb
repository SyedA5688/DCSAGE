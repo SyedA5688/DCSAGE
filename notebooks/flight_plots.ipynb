{
 "cells": [
  {
   "cell_type": "code",
   "execution_count": null,
   "metadata": {},
   "outputs": [],
   "source": [
    "import numpy as np\n",
    "import matplotlib.pyplot as plt\n",
    "import seaborn as sns\n",
    "import pandas as pd\n",
    "from scipy import stats"
   ]
  },
  {
   "cell_type": "code",
   "execution_count": null,
   "metadata": {},
   "outputs": [],
   "source": [
    "def plot_flight_weight_distrib(flight_matrix, binwidth, title, save_name):\n",
    "    sns.histplot(flight_matrix.flatten(), binwidth=binwidth, kde=True)\n",
    "    plt.title(title)\n",
    "    plt.xlabel(\"Number of Flights\")\n",
    "    plt.savefig(save_name, bbox_inches='tight', facecolor='white')\n",
    "    plt.show()"
   ]
  },
  {
   "cell_type": "code",
   "execution_count": null,
   "metadata": {},
   "outputs": [],
   "source": []
  },
  {
   "cell_type": "code",
   "execution_count": null,
   "metadata": {},
   "outputs": [],
   "source": []
  },
  {
   "cell_type": "markdown",
   "metadata": {},
   "source": [
    "## Check Adjacency 10x10 Matrix on Several Days"
   ]
  },
  {
   "cell_type": "code",
   "execution_count": null,
   "metadata": {},
   "outputs": [],
   "source": [
    "datasetv13 = np.load(\"./datasets/10_countries_dataset_v13_node_pert.npz\")\n",
    "datasetv13.files"
   ]
  },
  {
   "cell_type": "code",
   "execution_count": null,
   "metadata": {},
   "outputs": [],
   "source": [
    "datasetv13['flight_matrix_unscaled'][0]"
   ]
  },
  {
   "cell_type": "code",
   "execution_count": null,
   "metadata": {},
   "outputs": [],
   "source": [
    "datasetv13['flight_matrix_unscaled'][2]"
   ]
  },
  {
   "cell_type": "code",
   "execution_count": null,
   "metadata": {},
   "outputs": [],
   "source": [
    "datasetv13['flight_matrix_unscaled'].sum(axis=0)[:,2]"
   ]
  },
  {
   "cell_type": "code",
   "execution_count": null,
   "metadata": {},
   "outputs": [],
   "source": [
    "print(datasetv13['flight_matrix_unscaled'].flatten().max())\n",
    "print(datasetv13['flight_matrix_unscaled'].flatten().mean())\n",
    "print(datasetv13['flight_matrix_unscaled'].flatten().min())"
   ]
  },
  {
   "cell_type": "code",
   "execution_count": null,
   "metadata": {},
   "outputs": [],
   "source": []
  },
  {
   "cell_type": "markdown",
   "metadata": {},
   "source": [
    "## Plot Unscaled and Scaled Flights Distribution"
   ]
  },
  {
   "cell_type": "code",
   "execution_count": null,
   "metadata": {},
   "outputs": [],
   "source": [
    "skewness = round(stats.skew(datasetv13['flight_matrix_unscaled'].flatten()), 5)\n",
    "plot_flight_weight_distrib(\n",
    "    flight_matrix=datasetv13['flight_matrix_unscaled'], \n",
    "    binwidth=1,\n",
    "    title=\"Dataset v13 Unscaled Flight Weights Distribution (Skewness: {})\".format(str(skewness)),\n",
    "    save_name=\"./v13_unscaled_all_flight_distrib\")"
   ]
  },
  {
   "cell_type": "code",
   "execution_count": null,
   "metadata": {},
   "outputs": [],
   "source": [
    "skewness = round(stats.skew(datasetv13['flight_matrix_log10_scaled'].flatten()), 5)\n",
    "plot_flight_weight_distrib(\n",
    "    flight_matrix=datasetv13['flight_matrix_log10_scaled'], \n",
    "    binwidth=0.1,\n",
    "    title=\"Dataset v13 Log10 Scaled Flight Weights Distribution (Skewness: {})\".format(str(skewness)),\n",
    "    save_name=\"./v13_log10_all_flight_distrib\")"
   ]
  },
  {
   "cell_type": "code",
   "execution_count": null,
   "metadata": {},
   "outputs": [],
   "source": [
    "max(datasetv13['flight_matrix_unscaled'][:, 9, :].flatten())"
   ]
  },
  {
   "cell_type": "markdown",
   "metadata": {},
   "source": [
    "### Plot specific country flight distribution in dataset v13"
   ]
  },
  {
   "cell_type": "code",
   "execution_count": null,
   "metadata": {},
   "outputs": [],
   "source": [
    "# Plot v13 for specific country\n",
    "countries = [\"Brazil\", \"Germany\", \"Spain\", \"France\", \"Britain\", \"India\", \"Italy\", \"Russia\", \"Turkey\", \"USA\"]\n",
    "for country_idx in range(10):\n",
    "    max_val = max(datasetv13['flight_matrix_unscaled'][:, country_idx, :].flatten())\n",
    "    bin_width = max(max_val // 20, 1)\n",
    "    sns.histplot(datasetv13['flight_matrix_unscaled'][:, country_idx, :].flatten(), binwidth=bin_width, kde=True)\n",
    "    # plt.ylim(0, 6000)\n",
    "    plt.title(\"Dataset v13 \" + countries[country_idx] + \" Unscaled Flight Weights Distribution (Skewness: \" + str(round(stats.skew(datasetv13['flight_matrix_unscaled'][:, country_idx, :].flatten()), 5)) + \")\")\n",
    "    plt.xlabel(\"Number of Flights\")\n",
    "    plt.savefig(\"./v13_unscaled_\" + countries[country_idx] + \"_flight_distrib\", bbox_inches='tight', facecolor='white')\n",
    "    plt.clf()"
   ]
  },
  {
   "cell_type": "code",
   "execution_count": null,
   "metadata": {},
   "outputs": [],
   "source": [
    "# Plot v13 for specific country\n",
    "countries = [\"Brazil\", \"Germany\", \"Spain\", \"France\", \"Britain\", \"India\", \"Italy\", \"Russia\", \"Turkey\", \"USA\"]\n",
    "for country_idx in range(10):\n",
    "    max_val = max(datasetv13['flight_matrix_log10_scaled'][:, country_idx, :].flatten())\n",
    "    bin_width = max(max_val / 20, 0.1)\n",
    "    sns.histplot(datasetv13['flight_matrix_log10_scaled'][:, country_idx, :].flatten(), binwidth=bin_width, kde=True)\n",
    "    # plt.ylim(0, 6000)\n",
    "    plt.title(\"Dataset v13 \" + countries[country_idx] + \" Log 10 Flight Weights Distribution (Skewness: \" + str(round(stats.skew(datasetv13['flight_matrix_log10_scaled'][:, country_idx, :].flatten()), 5)) + \")\")\n",
    "    plt.xlabel(\"Number of Flights\")\n",
    "    plt.savefig(\"./v13_log10_\" + countries[country_idx] + \"_flight_distrib\", bbox_inches='tight', facecolor='white')\n",
    "    plt.clf()"
   ]
  },
  {
   "cell_type": "code",
   "execution_count": null,
   "metadata": {},
   "outputs": [],
   "source": []
  },
  {
   "cell_type": "markdown",
   "metadata": {},
   "source": [
    "### Dataset v14"
   ]
  },
  {
   "cell_type": "code",
   "execution_count": null,
   "metadata": {},
   "outputs": [],
   "source": [
    "datasetv14 = np.load(\"./datasets/10_countries_dataset_v14_node_pert.npz\")\n",
    "datasetv14.files"
   ]
  },
  {
   "cell_type": "code",
   "execution_count": null,
   "metadata": {},
   "outputs": [],
   "source": [
    "skewness = round(stats.skew(datasetv14['flight_matrix_unscaled'].flatten()), 5)\n",
    "plot_flight_weight_distrib(\n",
    "    flight_matrix=datasetv14['flight_matrix_unscaled'], \n",
    "    binwidth=20,\n",
    "    title=\"Dataset v14 Unscaled Flight Weights Distribution (Skewness: {})\".format(str(skewness)),\n",
    "    save_name=\"./v14_unscaled_all_flight_distrib\")"
   ]
  },
  {
   "cell_type": "code",
   "execution_count": null,
   "metadata": {},
   "outputs": [],
   "source": [
    "skewness = round(stats.skew(datasetv14['flight_matrix_log10_scaled'].flatten()), 5)\n",
    "plot_flight_weight_distrib(\n",
    "    flight_matrix=datasetv14['flight_matrix_log10_scaled'], \n",
    "    binwidth=0.1,\n",
    "    title=\"Dataset v14 Log10 Scaled Flight Weights Distribution (Skewness: {})\".format(str(skewness)),\n",
    "    save_name=\"./v14_log10_all_flight_distrib\")"
   ]
  },
  {
   "cell_type": "code",
   "execution_count": null,
   "metadata": {},
   "outputs": [],
   "source": []
  },
  {
   "cell_type": "markdown",
   "metadata": {},
   "source": [
    "### Specific country flight distribution in dataset v14"
   ]
  },
  {
   "cell_type": "code",
   "execution_count": null,
   "metadata": {},
   "outputs": [],
   "source": [
    "datasetv14['flight_matrix_unscaled'][:, 9, :].shape"
   ]
  },
  {
   "cell_type": "code",
   "execution_count": null,
   "metadata": {},
   "outputs": [],
   "source": [
    "# Plot unscaled 10 countries\n",
    "countries = [\"Brazil\", \"Germany\", \"Spain\", \"France\", \"Britain\", \"India\", \"Italy\", \"Russia\", \"Turkey\", \"USA\"]\n",
    "for country_idx in range(10):\n",
    "    max_val = max(datasetv14['flight_matrix_unscaled'][:, country_idx, :].flatten())\n",
    "    bin_width = max(max_val // 20, 1)\n",
    "    sns.histplot(datasetv14['flight_matrix_unscaled'][:, country_idx, :].flatten(), binwidth=bin_width, kde=True)\n",
    "    # plt.ylim(0, 6000)\n",
    "    plt.title(\"Dataset v14 \" + countries[country_idx] + \" Unscaled Flight Weights Distribution (Skewness: \" + str(round(stats.skew(datasetv14['flight_matrix_unscaled'][:, country_idx, :].flatten()), 5)) + \")\")\n",
    "    plt.xlabel(\"Number of Flights\")\n",
    "    plt.savefig(\"./v14_unscaled_\" + countries[country_idx] + \"_flight_distrib\", bbox_inches='tight', facecolor='white')\n",
    "    plt.clf()"
   ]
  },
  {
   "cell_type": "code",
   "execution_count": null,
   "metadata": {},
   "outputs": [],
   "source": [
    "# Plot scaled for 10 countries\n",
    "countries = [\"Brazil\", \"Germany\", \"Spain\", \"France\", \"Britain\", \"India\", \"Italy\", \"Russia\", \"Turkey\", \"USA\"]\n",
    "for country_idx in range(10):\n",
    "    max_val = max(datasetv14['flight_matrix_log10_scaled'][:, country_idx, :].flatten())\n",
    "    bin_width = max(max_val / 20, 0.1)\n",
    "    sns.histplot(datasetv14['flight_matrix_log10_scaled'][:, country_idx, :].flatten(), binwidth=bin_width, kde=True)\n",
    "    # plt.ylim(0, 6000)\n",
    "    plt.title(\"Dataset v14 \" + countries[country_idx] + \" Log 10 Flight Weights Distribution (Skewness: \" + str(round(stats.skew(datasetv14['flight_matrix_log10_scaled'][:, country_idx, :].flatten()), 5)) + \")\")\n",
    "    plt.xlabel(\"Number of Flights\")\n",
    "    plt.savefig(\"./v14_log10_\" + countries[country_idx] + \"_flight_distrib\", bbox_inches='tight', facecolor='white')\n",
    "    plt.clf()"
   ]
  },
  {
   "cell_type": "code",
   "execution_count": null,
   "metadata": {},
   "outputs": [],
   "source": []
  },
  {
   "cell_type": "markdown",
   "metadata": {},
   "source": [
    "# Dataset v15"
   ]
  },
  {
   "cell_type": "code",
   "execution_count": null,
   "metadata": {},
   "outputs": [],
   "source": [
    "datasetv15 = np.load(\"./datasets/_old/10_countries_dataset_v15_node_pert.npz\")\n",
    "datasetv15.files"
   ]
  },
  {
   "cell_type": "code",
   "execution_count": null,
   "metadata": {},
   "outputs": [],
   "source": [
    "skewness = round(stats.skew(datasetv15['flight_matrix_unscaled'].flatten()), 5)\n",
    "plot_flight_weight_distrib(\n",
    "    flight_matrix=datasetv15['flight_matrix_unscaled'], \n",
    "    binwidth=20,\n",
    "    title=\"Dataset v15 Unscaled Flight Weights Distribution (Skewness: {})\".format(str(skewness)),\n",
    "    save_name=\"./v15_unscaled_all_flight_distribution\")"
   ]
  },
  {
   "cell_type": "code",
   "execution_count": null,
   "metadata": {},
   "outputs": [],
   "source": [
    "skewness = round(stats.skew(datasetv15['flight_matrix_log10_scaled'].flatten()), 5)\n",
    "plot_flight_weight_distrib(\n",
    "    flight_matrix=datasetv15['flight_matrix_log10_scaled'], \n",
    "    binwidth=0.1,\n",
    "    title=\"Dataset v15 Log10 Scaled Flight Weights Distribution (Skewness: {})\".format(str(skewness)),\n",
    "    save_name=\"./v15_log10_all_flight_distrib\")"
   ]
  },
  {
   "cell_type": "code",
   "execution_count": null,
   "metadata": {},
   "outputs": [],
   "source": []
  },
  {
   "cell_type": "markdown",
   "metadata": {},
   "source": [
    "# Dataset v16 Continents"
   ]
  },
  {
   "cell_type": "code",
   "execution_count": null,
   "metadata": {},
   "outputs": [],
   "source": [
    "datasetv16 = np.load(\"./datasets/10_continents_dataset_v16_node_pert.npz\")\n",
    "datasetv16.files"
   ]
  },
  {
   "cell_type": "code",
   "execution_count": null,
   "metadata": {},
   "outputs": [],
   "source": [
    "skewness = round(stats.skew(datasetv16['flight_matrix_unscaled'].flatten()), 5)\n",
    "plot_flight_weight_distrib(\n",
    "    flight_matrix=datasetv16['flight_matrix_unscaled'], \n",
    "    binwidth=2000,\n",
    "    title=\"Dataset v16 Unscaled Flight Weights Distribution (Skewness: {})\".format(str(skewness)),\n",
    "    save_name=\"./v16_unscaled_all_flight_distribution\")"
   ]
  },
  {
   "cell_type": "code",
   "execution_count": null,
   "metadata": {},
   "outputs": [],
   "source": [
    "skewness = round(stats.skew(datasetv16['flight_matrix_log10_scaled'].flatten()), 5)\n",
    "plot_flight_weight_distrib(\n",
    "    flight_matrix=datasetv16['flight_matrix_log10_scaled'], \n",
    "    binwidth=0.2,\n",
    "    title=\"Dataset v16 Log10 Scaled Flight Weights Distribution (Skewness: {})\".format(str(skewness)),\n",
    "    save_name=\"./v16_log10_all_flight_distrib\")"
   ]
  },
  {
   "cell_type": "code",
   "execution_count": null,
   "metadata": {},
   "outputs": [],
   "source": []
  },
  {
   "cell_type": "code",
   "execution_count": null,
   "metadata": {},
   "outputs": [],
   "source": []
  },
  {
   "cell_type": "markdown",
   "metadata": {},
   "source": [
    "# Dataset v17"
   ]
  },
  {
   "cell_type": "code",
   "execution_count": null,
   "metadata": {},
   "outputs": [],
   "source": [
    "datasetv17 = np.load(\"./datasets/10_continents_dataset_v17_node_pert.npz\")\n",
    "datasetv17.files"
   ]
  },
  {
   "cell_type": "code",
   "execution_count": null,
   "metadata": {},
   "outputs": [],
   "source": [
    "datasetv17[\"flight_matrix_unscaled\"].shape"
   ]
  },
  {
   "cell_type": "code",
   "execution_count": null,
   "metadata": {},
   "outputs": [],
   "source": [
    "# Plot flight distribution scaled for 10 continents\n",
    "continents = [\"Africa\", \"North America\", \"South America\", \"Oceania\", \"Eastern Europe\", \"Western Europe\", \"Middle East\", \"South Asia\", \"Southeast-East Asia\", \"Central Asia\"]\n",
    "def plot_continents_zero_distributions(flight_matrix, ymax, title, save_name):\n",
    "    fig, ax = plt.subplots(nrows=2, ncols=5, figsize=(25,10))\n",
    "    fig.suptitle(title, fontsize= 30)\n",
    "    \n",
    "    idx = 0\n",
    "    for row in ax:\n",
    "        for col in row:\n",
    "            max_val = max(flight_matrix[:, idx, :].flatten())\n",
    "            bin_width = max(max_val / 15., 0.1)\n",
    "            sns.histplot(ax=col, data=flight_matrix[:, idx, :].flatten(), binwidth=bin_width, kde=True)\n",
    "            col.set_ylim(0, ymax)\n",
    "            skewness = round(stats.skew(flight_matrix[:, idx, :].flatten()), 5)\n",
    "            col.set_title(\"{}\\n(Skewness: {})\".format(continents[idx], skewness))\n",
    "            col.set_xlabel(\"Number of Flights\")\n",
    "            idx += 1\n",
    "    plt.tight_layout()\n",
    "    plt.savefig(save_name, bbox_inches='tight', facecolor='white')\n",
    "    plt.show()"
   ]
  },
  {
   "cell_type": "code",
   "execution_count": null,
   "metadata": {},
   "outputs": [],
   "source": [
    "plot_continents_zero_distributions(\n",
    "    flight_matrix=datasetv17[\"flight_matrix_log10_scaled\"],\n",
    "    ymax=4500,\n",
    "    title=\"Dataset v17 Log10 Flight Weight Distribution Per Continent\",\n",
    "    save_name=\"./v17_log10_all_flight_distrib.png\"\n",
    ")"
   ]
  },
  {
   "cell_type": "code",
   "execution_count": null,
   "metadata": {},
   "outputs": [],
   "source": []
  },
  {
   "cell_type": "code",
   "execution_count": null,
   "metadata": {},
   "outputs": [],
   "source": [
    "datasetv17_smoothened_flights = np.load(\"./datasets/10_continents_dataset_v17_node_pert_7day_flight_smoothen.npz\")\n",
    "datasetv17_smoothened_flights.files"
   ]
  },
  {
   "cell_type": "code",
   "execution_count": null,
   "metadata": {},
   "outputs": [],
   "source": [
    "plot_continents_zero_distributions(\n",
    "    flight_matrix=datasetv17_smoothened_flights[\"flight_matrix_log10_scaled\"],\n",
    "    ymax=4500,\n",
    "    title=\"Dataset v17 Log10 7-day Smoothen Flight Weight Distribution Per Continent\",\n",
    "    save_name=\"./v17_log10_7day_smoothen_all_flight_distrib.png\"\n",
    ")"
   ]
  },
  {
   "cell_type": "code",
   "execution_count": null,
   "metadata": {},
   "outputs": [],
   "source": []
  },
  {
   "cell_type": "code",
   "execution_count": null,
   "metadata": {},
   "outputs": [],
   "source": [
    "datasetv17_14day_smoothened_flights = np.load(\"./datasets/10_continents_dataset_v17_node_pert_14day_flight_cases_smoothen.npz\")\n",
    "datasetv17_14day_smoothened_flights.files"
   ]
  },
  {
   "cell_type": "code",
   "execution_count": null,
   "metadata": {},
   "outputs": [],
   "source": [
    "plot_continents_zero_distributions(\n",
    "    flight_matrix=datasetv17_14day_smoothened_flights[\"flight_matrix_log10_scaled\"],\n",
    "    ymax=4500,\n",
    "    title=\"Dataset v17 Log10 14-day Smoothen Flight Weight Distribution Per Continent\",\n",
    "    save_name=\"./v17_log10_14day_smoothen_all_flight_distrib.png\"\n",
    ")"
   ]
  },
  {
   "cell_type": "code",
   "execution_count": null,
   "metadata": {},
   "outputs": [],
   "source": []
  },
  {
   "cell_type": "code",
   "execution_count": null,
   "metadata": {},
   "outputs": [],
   "source": [
    "datasetv17_no_flight_zeros = np.load(\"./datasets/10_continents_dataset_v17_node_pert_no_flight_zeros.npz\")\n",
    "datasetv17_no_flight_zeros.files"
   ]
  },
  {
   "cell_type": "code",
   "execution_count": null,
   "metadata": {},
   "outputs": [],
   "source": [
    "plot_continents_zero_distributions(\n",
    "    flight_matrix=datasetv17_no_flight_zeros[\"flight_matrix_log10_scaled\"],\n",
    "    ymax=4500,\n",
    "    title=\"Dataset v17 Log10 No Flight Zeros Flight Weight Distribution Per Continent\",\n",
    "    save_name=\"./v17_log10_no_flight_zeros_all_flight_distrib.png\"\n",
    ")"
   ]
  },
  {
   "cell_type": "code",
   "execution_count": null,
   "metadata": {},
   "outputs": [],
   "source": []
  },
  {
   "cell_type": "code",
   "execution_count": null,
   "metadata": {},
   "outputs": [],
   "source": []
  },
  {
   "cell_type": "code",
   "execution_count": null,
   "metadata": {},
   "outputs": [],
   "source": [
    "def plot_zero_contribution_barplot(flight_matrix):\n",
    "    continent_names = []\n",
    "    heights = []\n",
    "    for i in range(10):\n",
    "        name = \"\\n\".join(continents[i].split(\" \"))\n",
    "        continent_names.append(name)\n",
    "        zero_results_np = np.where(flight_matrix[:, i, :] == 0)\n",
    "        heights.append(len(zero_results_np[0]))  #  - len(datasetv16['flight_matrix_log10_scaled'])\n",
    "    \n",
    "    plt.figure(figsize=(12, 4))\n",
    "    plt.bar(x=continent_names, height=heights)\n",
    "    plt.title(\"Number of Zeros in Outgoing Flights Per Continent\")\n",
    "    plt.xlabel(\"Continent\")\n",
    "    plt.ylabel(\"Count\")\n",
    "    plt.savefig(\"./continent_zero_counts.png\", bbox_inches=\"tight\", facecolor=\"white\")\n",
    "    plt.show()"
   ]
  },
  {
   "cell_type": "code",
   "execution_count": null,
   "metadata": {},
   "outputs": [],
   "source": [
    "plot_zero_contribution_barplot(datasetv16['flight_matrix_log10_scaled'])"
   ]
  },
  {
   "cell_type": "code",
   "execution_count": null,
   "metadata": {},
   "outputs": [],
   "source": [
    "\"\\n\".join(continents[1].split(\" \"))"
   ]
  },
  {
   "cell_type": "code",
   "execution_count": null,
   "metadata": {},
   "outputs": [],
   "source": []
  },
  {
   "cell_type": "code",
   "execution_count": null,
   "metadata": {},
   "outputs": [],
   "source": []
  },
  {
   "cell_type": "markdown",
   "metadata": {},
   "source": [
    "# Dataset v18"
   ]
  },
  {
   "cell_type": "code",
   "execution_count": null,
   "metadata": {},
   "outputs": [],
   "source": [
    "datasetv18 = np.load(\"./datasets/10_continents_dataset_v18_node_pert.npz\")\n",
    "datasetv18.files"
   ]
  },
  {
   "cell_type": "code",
   "execution_count": null,
   "metadata": {},
   "outputs": [],
   "source": [
    "datasetv18[\"flight_matrix_unscaled\"].shape"
   ]
  },
  {
   "cell_type": "code",
   "execution_count": null,
   "metadata": {},
   "outputs": [],
   "source": [
    "# Plot flight distribution scaled for 10 continents\n",
    "continents = [\"Africa\", \"North America\", \"South America\", \"Oceania\", \"Eastern Europe\", \"Western Europe\", \"Middle East\", \"South Asia\", \"Southeast-East Asia\", \"Central Asia\"]\n",
    "def plot_continents_zero_distributions(flight_matrix, ymax, title, save_name):\n",
    "    fig, ax = plt.subplots(nrows=2, ncols=5, figsize=(25,10))\n",
    "    fig.suptitle(title, fontsize= 30)\n",
    "    \n",
    "    idx = 0\n",
    "    for row in ax:\n",
    "        for col in row:\n",
    "            max_val = max(flight_matrix[:, idx, :].flatten())\n",
    "            bin_width = max(max_val / 15., 0.1)\n",
    "            sns.histplot(ax=col, data=flight_matrix[:, idx, :].flatten(), binwidth=bin_width, kde=True)\n",
    "            col.set_ylim(0, ymax)\n",
    "            skewness = round(stats.skew(flight_matrix[:, idx, :].flatten()), 5)\n",
    "            col.set_title(\"{}\\n(Skewness: {})\".format(continents[idx], skewness))\n",
    "            col.set_xlabel(\"Number of Flights\")\n",
    "            idx += 1\n",
    "    plt.tight_layout()\n",
    "    plt.savefig(save_name, bbox_inches='tight', facecolor='white')\n",
    "    plt.show()"
   ]
  },
  {
   "cell_type": "code",
   "execution_count": null,
   "metadata": {},
   "outputs": [],
   "source": [
    "plot_continents_zero_distributions(\n",
    "    flight_matrix=datasetv18[\"flight_matrix_log10_scaled\"],\n",
    "    ymax=5000,\n",
    "    title=\"Dataset v18 Log10 Flight Weight Distribution Per Continent\",\n",
    "    save_name=\"./v18_log10_all_flight_distrib.png\"\n",
    ")"
   ]
  },
  {
   "cell_type": "code",
   "execution_count": null,
   "metadata": {},
   "outputs": [],
   "source": [
    "plot_continents_zero_distributions(\n",
    "    flight_matrix=datasetv18[\"flight_matrix_unscaled\"],\n",
    "    ymax=5000,\n",
    "    title=\"Dataset v18 Unscaled Flight Weight Distribution Per Continent\",\n",
    "    save_name=\"./v18_unscaled_all_flight_distrib.png\"\n",
    ")"
   ]
  },
  {
   "cell_type": "code",
   "execution_count": null,
   "metadata": {},
   "outputs": [],
   "source": [
    "len(np.where(datasetv18[\"flight_matrix_unscaled\"].flatten() == 0)[0])"
   ]
  },
  {
   "cell_type": "code",
   "execution_count": null,
   "metadata": {},
   "outputs": [],
   "source": [
    "len(np.where(datasetv18[\"flight_matrix_log10_scaled\"].flatten() == 0)[0])"
   ]
  },
  {
   "cell_type": "code",
   "execution_count": null,
   "metadata": {},
   "outputs": [],
   "source": [
    "datasetv18[\"flight_matrix_log10_scaled\"].shape"
   ]
  },
  {
   "cell_type": "code",
   "execution_count": null,
   "metadata": {},
   "outputs": [],
   "source": [
    "datasetv18[\"flight_matrix_unscaled\"].shape"
   ]
  },
  {
   "cell_type": "code",
   "execution_count": null,
   "metadata": {},
   "outputs": [],
   "source": [
    "567 * 100"
   ]
  },
  {
   "cell_type": "code",
   "execution_count": null,
   "metadata": {},
   "outputs": [],
   "source": [
    "4000 / 56700"
   ]
  },
  {
   "cell_type": "code",
   "execution_count": null,
   "metadata": {},
   "outputs": [],
   "source": [
    "len(np.where(datasetv18[\"flight_matrix_unscaled\"].flatten() == 1)[0])"
   ]
  },
  {
   "cell_type": "code",
   "execution_count": null,
   "metadata": {},
   "outputs": [],
   "source": [
    "np.where(datasetv18[\"flight_matrix_unscaled\"] == 1)"
   ]
  },
  {
   "cell_type": "code",
   "execution_count": null,
   "metadata": {},
   "outputs": [],
   "source": [
    "datasetv18[\"flight_matrix_unscaled\"][0]"
   ]
  },
  {
   "cell_type": "code",
   "execution_count": null,
   "metadata": {},
   "outputs": [],
   "source": [
    "continents"
   ]
  },
  {
   "cell_type": "markdown",
   "metadata": {},
   "source": [
    "## Plot Incoming and Outgoing Edges Over Rolling Windows"
   ]
  },
  {
   "cell_type": "code",
   "execution_count": null,
   "metadata": {},
   "outputs": [],
   "source": [
    "WINDOW_SIZE = 7\n",
    "def plot_flights_over_days(dataset_flight_matrix, flight_type):\n",
    "    \"\"\"\n",
    "    This function plots a figure of outgoing edges for each country over each day of the dataset\n",
    "    \n",
    "    Args:\n",
    "        - dataset_flight_matrix: Shape (dataset_len, 10, 10)\n",
    "    \"\"\"\n",
    "    assert flight_type in [\"Incoming\", \"Outgoing\", \"Combined\"]\n",
    "    countries = [\"Brazil\", \"Germany\", \"Spain\", \"France\", \"Britain\", \"India\", \"Italy\", \"Russia\", \"Turkey\", \"USA\"]\n",
    "    \n",
    "    if flight_type == \"Outgoing\":\n",
    "        daywise_flights = np.nansum(dataset_flight_matrix, axis=1)\n",
    "    elif flight_type == \"Incoming\":\n",
    "        daywise_flights = np.nansum(dataset_flight_matrix, axis=2)\n",
    "    elif flight_type == \"Combined\":\n",
    "        daywise_flights = np.nansum(dataset_flight_matrix, axis=1) + np.nansum(dataset_flight_matrix, axis=2)\n",
    "\n",
    "    country_dict = { countries[idx]: daywise_flights[:, idx] for idx in range(len(countries)) }\n",
    "    country_dict[\"Day Index\"] = list(range(len(daywise_flights)))\n",
    "    visual_df = pd.DataFrame(country_dict)\n",
    "\n",
    "    plt.figure(figsize=(18, 6), dpi=80)\n",
    "    sns.lineplot(x='Day Index', y='Total Number of {} Flights'.format(flight_type), hue='Country', data=pd.melt(visual_df, ['Day Index'], value_name='Total Number of {} Flights'.format(flight_type), var_name=\"Country\"))\n",
    "    plt.title(\"Total Number of {} Flights Per Day\".format(flight_type), fontsize= 16)\n",
    "\n",
    "    filename = \"v15_daywise_num_{}_flights\".format(flight_type)\n",
    "    plt.savefig(\"./\" + filename + '.png', bbox_inches='tight', facecolor='white')\n",
    "    plt.clf()\n",
    "    plt.close()\n"
   ]
  },
  {
   "cell_type": "code",
   "execution_count": null,
   "metadata": {},
   "outputs": [],
   "source": [
    "plot_flights_over_days(datasetv15['flight_matrix_unscaled'], flight_type=\"Outgoing\")\n",
    "plot_flights_over_days(datasetv15['flight_matrix_unscaled'], flight_type=\"Incoming\")\n",
    "plot_flights_over_days(datasetv15['flight_matrix_unscaled'], flight_type=\"Combined\")"
   ]
  },
  {
   "cell_type": "code",
   "execution_count": null,
   "metadata": {},
   "outputs": [],
   "source": []
  },
  {
   "cell_type": "code",
   "execution_count": null,
   "metadata": {},
   "outputs": [],
   "source": [
    "WINDOW_SIZE = 7\n",
    "def plot_flights_over_rolling_windows(dataset_flight_matrix, flight_type):\n",
    "    \"\"\"\n",
    "    This function plots a figure of outgoing edges for each country over each rolling window of the dataset\n",
    "    \n",
    "    Args:\n",
    "        - dataset_flight_matrix: Shape (dataset_len, 10, 10)\n",
    "    \"\"\"\n",
    "    assert flight_type in [\"Incoming\", \"Outgoing\", \"Combined\"]\n",
    "    countries = [\"Brazil\", \"Germany\", \"Spain\", \"France\", \"Britain\", \"India\", \"Italy\", \"Russia\", \"Turkey\", \"USA\"]\n",
    "    \n",
    "    if flight_type == \"Outgoing\":\n",
    "        daywise_flights = np.nansum(dataset_flight_matrix, axis=1)\n",
    "    elif flight_type == \"Incoming\":\n",
    "        daywise_flights = np.nansum(dataset_flight_matrix, axis=2)\n",
    "    elif flight_type == \"Combined\":\n",
    "        daywise_flights = np.nansum(dataset_flight_matrix, axis=1) + np.nansum(dataset_flight_matrix, axis=2)\n",
    "\n",
    "    roll_win_flights = [daywise_flights[idx: idx+30+WINDOW_SIZE, :].mean(axis=0) for idx in range(len(daywise_flights) - 30 - WINDOW_SIZE - WINDOW_SIZE)]\n",
    "    roll_win_flights = np.array(roll_win_flights)\n",
    "\n",
    "    country_dict = { countries[idx]: roll_win_flights[:, idx] for idx in range(len(countries)) }\n",
    "    country_dict[\"Rolling Window Index\"] = list(range(len(roll_win_flights)))\n",
    "    visual_df = pd.DataFrame(country_dict)\n",
    "\n",
    "    plt.figure(figsize=(18, 6), dpi=80)\n",
    "    sns.lineplot(x='Rolling Window Index', y='Total Number of {} Flights'.format(flight_type), hue='Country', data=pd.melt(visual_df, ['Rolling Window Index'], value_name='Total Number of {} Flights'.format(flight_type), var_name=\"Country\"))\n",
    "    plt.title(\"Total Number of {} Flights Per Rolling Window\".format(flight_type), fontsize= 16)\n",
    "\n",
    "    filename = \"v15_roll_win_num_{}_flights\".format(flight_type)\n",
    "    plt.savefig(\"./\" + filename + '.png', bbox_inches='tight', facecolor='white')\n",
    "    plt.clf()\n",
    "    plt.close()\n"
   ]
  },
  {
   "cell_type": "code",
   "execution_count": null,
   "metadata": {},
   "outputs": [],
   "source": [
    "plot_flights_over_rolling_windows(datasetv15['flight_matrix_unscaled'], flight_type=\"Outgoing\")\n",
    "plot_flights_over_rolling_windows(datasetv15['flight_matrix_unscaled'], flight_type=\"Incoming\")\n",
    "plot_flights_over_rolling_windows(datasetv15['flight_matrix_unscaled'], flight_type=\"Combined\")"
   ]
  },
  {
   "cell_type": "code",
   "execution_count": null,
   "metadata": {},
   "outputs": [],
   "source": []
  },
  {
   "cell_type": "markdown",
   "metadata": {},
   "source": [
    "### Scatterplot between USA ranking and num_flights"
   ]
  },
  {
   "cell_type": "code",
   "execution_count": null,
   "metadata": {},
   "outputs": [],
   "source": [
    "ANALYSIS_DIR = \"2022-03-03-21_17_42\"\n",
    "roll_win_aggreg_diff_nested_list = np.load(\"./analysis-runs-multiple-models/\" + ANALYSIS_DIR + \"/prediction_saves/DCSAGE_7day_100model_v15_10x10.npy\")\n",
    "# roll_win_aggreg_diff_nested_list = np.load(\"./sensitivity_MPNN_10x10_info.npy\")\n",
    "print(roll_win_aggreg_diff_nested_list.shape)\n",
    "\n",
    "# Get sensitivity score distribution for each country\n",
    "sensitivty_score_nested_np = np.nansum(np.array(roll_win_aggreg_diff_nested_list), axis=3)\n",
    "print(\"Shape:\", sensitivty_score_nested_np.shape)"
   ]
  },
  {
   "cell_type": "code",
   "execution_count": null,
   "metadata": {},
   "outputs": [],
   "source": [
    "roll_win_loc_params = []\n",
    "roll_win_scale_params = []\n",
    "for roll_win in range(len(sensitivty_score_nested_np)):\n",
    "    location_params = []\n",
    "    scale_params = []\n",
    "    for country_idx in range(10):\n",
    "        values = sensitivty_score_nested_np[roll_win,:,country_idx]\n",
    "        # params = stats.gumbel_l.fit(values)\n",
    "        params = stats.norm.fit(values)\n",
    "        location_params.append(params[0])\n",
    "        scale_params.append(params[1])\n",
    "    \n",
    "    roll_win_loc_params.append(location_params)\n",
    "    roll_win_scale_params.append(scale_params)\n",
    "\n",
    "roll_win_loc_params = np.array(roll_win_loc_params)\n",
    "roll_win_scale_params = np.array(roll_win_scale_params)\n",
    "print(roll_win_loc_params.shape)\n",
    "print(roll_win_scale_params.shape)"
   ]
  },
  {
   "cell_type": "code",
   "execution_count": null,
   "metadata": {},
   "outputs": [],
   "source": [
    "idx = 9\n",
    "daywise_outgoing_flights = np.nanmean(datasetv14['flight_matrix_log10_scaled'][:, idx, :], axis=1)\n",
    "rollwin_outgoing_flights = [daywise_outgoing_flights[idx: idx+30].mean() for idx in range(len(daywise_outgoing_flights) - 30)]\n",
    "rollwin_outgoing_flights = np.array(rollwin_outgoing_flights)[:-14]"
   ]
  },
  {
   "cell_type": "code",
   "execution_count": null,
   "metadata": {},
   "outputs": [],
   "source": [
    "EULER_MASCHERONI_CONSTANT = 0.57721566490153286060651209008240243104215933593992\n",
    "roll_win_gumbel_means = np.zeros(roll_win_loc_params.shape)\n",
    "\n",
    "# Mean formula: Mu - Scale * Euler Mascharoni constant\n",
    "for roll_win in range(roll_win_gumbel_means.shape[0]):\n",
    "    for country_idx in range(roll_win_gumbel_means.shape[1]):\n",
    "        roll_win_gumbel_means[roll_win,country_idx] = roll_win_loc_params[roll_win,country_idx] - roll_win_scale_params[roll_win,country_idx] * EULER_MASCHERONI_CONSTANT"
   ]
  },
  {
   "cell_type": "code",
   "execution_count": null,
   "metadata": {},
   "outputs": [],
   "source": [
    "plt.scatter(rollwin_outgoing_flights, roll_win_gumbel_means[:,idx])\n",
    "plt.show()"
   ]
  },
  {
   "cell_type": "code",
   "execution_count": null,
   "metadata": {},
   "outputs": [],
   "source": []
  }
 ],
 "metadata": {
  "interpreter": {
   "hash": "43c3ec5cb0d81e7b9f9908a53ca28aa4318265e5d52f388cac911a9765dd2a07"
  },
  "kernelspec": {
   "display_name": "Python 3.8.12 ('gnn')",
   "language": "python",
   "name": "python3"
  },
  "language_info": {
   "codemirror_mode": {
    "name": "ipython",
    "version": 3
   },
   "file_extension": ".py",
   "mimetype": "text/x-python",
   "name": "python",
   "nbconvert_exporter": "python",
   "pygments_lexer": "ipython3",
   "version": "3.8.12"
  },
  "orig_nbformat": 4
 },
 "nbformat": 4,
 "nbformat_minor": 2
}
