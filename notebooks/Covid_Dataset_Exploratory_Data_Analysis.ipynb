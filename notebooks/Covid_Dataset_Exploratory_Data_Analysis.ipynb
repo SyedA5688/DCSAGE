{
 "cells": [
  {
   "cell_type": "code",
   "execution_count": null,
   "metadata": {},
   "outputs": [],
   "source": [
    "import numpy as np\n",
    "import pandas as pd\n",
    "import matplotlib.pyplot as plt\n",
    "import seaborn as sns"
   ]
  },
  {
   "cell_type": "code",
   "execution_count": null,
   "metadata": {},
   "outputs": [],
   "source": [
    "continents = [\"Africa\", \"North America\", \"South America\", \"Oceania\", \"Eastern Europe\", \"Western Europe\", \"Middle East\", \"South Asia\", \"Southeast-East Asia\", \"Central Asia\"]"
   ]
  },
  {
   "cell_type": "code",
   "execution_count": null,
   "metadata": {},
   "outputs": [],
   "source": [
    "continents_features_file = np.load(\"./continents_new_features.npz\")\n",
    "continents_features_file.files"
   ]
  },
  {
   "cell_type": "code",
   "execution_count": null,
   "metadata": {},
   "outputs": [],
   "source": [
    "continents_features = continents_features_file[\"arr_0\"]\n",
    "continents_features.shape"
   ]
  },
  {
   "cell_type": "markdown",
   "metadata": {},
   "source": [
    "Check for nans"
   ]
  },
  {
   "cell_type": "code",
   "execution_count": null,
   "metadata": {},
   "outputs": [],
   "source": [
    "np.where(continents_features == np.nan)"
   ]
  },
  {
   "cell_type": "markdown",
   "metadata": {},
   "source": [
    "Check for Containment Index below 0"
   ]
  },
  {
   "cell_type": "code",
   "execution_count": null,
   "metadata": {},
   "outputs": [],
   "source": [
    "np.where(continents_features[:,:,0] < 0)"
   ]
  },
  {
   "cell_type": "markdown",
   "metadata": {},
   "source": [
    "Check for Containment Index equal to 0}"
   ]
  },
  {
   "cell_type": "code",
   "execution_count": null,
   "metadata": {},
   "outputs": [],
   "source": [
    "np.where(continents_features[:,:,0] == 0)\n",
    "# Index 769 is a blank column, can remove\n",
    "# 768 is last day in dataset for containment index, has zeros for some countries"
   ]
  },
  {
   "cell_type": "markdown",
   "metadata": {},
   "source": [
    "Check for Number of Cases < 0"
   ]
  },
  {
   "cell_type": "code",
   "execution_count": null,
   "metadata": {},
   "outputs": [],
   "source": [
    "np.where(continents_features[:,:,1] < 0)"
   ]
  },
  {
   "cell_type": "code",
   "execution_count": null,
   "metadata": {},
   "outputs": [],
   "source": []
  },
  {
   "cell_type": "markdown",
   "metadata": {},
   "source": [
    "# Check if Values are Realistic"
   ]
  },
  {
   "cell_type": "code",
   "execution_count": null,
   "metadata": {},
   "outputs": [],
   "source": [
    "# Check if matches spreadsheet\n",
    "continents_features[60,:,1]"
   ]
  },
  {
   "cell_type": "code",
   "execution_count": null,
   "metadata": {},
   "outputs": [],
   "source": [
    "print(continents_features[:,:,1].max())\n",
    "print(continents_features[:,:,1].mean())\n",
    "print(np.median(continents_features[:,:,1]))\n",
    "print(continents_features[:,:,1].min())"
   ]
  },
  {
   "cell_type": "code",
   "execution_count": null,
   "metadata": {},
   "outputs": [],
   "source": [
    "np.where(continents_features[:,:,1] > 1000000)"
   ]
  },
  {
   "cell_type": "code",
   "execution_count": null,
   "metadata": {},
   "outputs": [],
   "source": []
  },
  {
   "cell_type": "markdown",
   "metadata": {},
   "source": [
    "# Visualize case trends among continents"
   ]
  },
  {
   "cell_type": "code",
   "execution_count": null,
   "metadata": {},
   "outputs": [],
   "source": [
    "continents = [\"Africa\", \"North America\", \"South America\", \"Oceania\", \"Eastern Europe\", \"Western Europe\", \"Middle East\", \"South Asia\", \"Southeast-East Asia\", \"Central Asia\"]\n",
    "print(continents_features.shape)\n",
    "print(continents_features[:,:,1].shape)"
   ]
  },
  {
   "cell_type": "code",
   "execution_count": null,
   "metadata": {},
   "outputs": [],
   "source": [
    "def visualize_case_trends(country_num_cases_matrix):\n",
    "    \"\"\"\n",
    "    This function will make a plot with 10 curves, 1 curve represents one of the 10 continents' number of \n",
    "    cases trend.\n",
    "    Args:\n",
    "        - country_num_cases_matrix: Shape (n_days, 10)\n",
    "    \"\"\"\n",
    "    cases_dict = { continents[idx]: country_num_cases_matrix[:, idx] for idx in range(10) }\n",
    "    visual_dict = pd.DataFrame(cases_dict)\n",
    "    visual_dict[\"Day Index\"] = list(range(len(country_num_cases_matrix)))\n",
    "    plt.figure(figsize=(24,6))\n",
    "    sns.lineplot(data=pd.melt(visual_dict, [\"Day Index\"], value_name=\"Containment Index\", var_name=\"Continent\"), x=\"Day Index\", y=\"Containment Index\", hue=\"Continent\")\n",
    "    plt.title(\"Containment Index by Continent\")\n",
    "    plt.savefig(\"./continent_containment_index_trends.png\", bbox_inches=\"tight\", facecolor=\"white\")\n",
    "    plt.show()"
   ]
  },
  {
   "cell_type": "code",
   "execution_count": null,
   "metadata": {},
   "outputs": [],
   "source": [
    "visualize_case_trends(continents_features[:,:,1])"
   ]
  },
  {
   "cell_type": "code",
   "execution_count": null,
   "metadata": {},
   "outputs": [],
   "source": [
    "# Visualize containment index Trends, can use same function\n",
    "visualize_case_trends(continents_features[:,:,0])"
   ]
  },
  {
   "cell_type": "code",
   "execution_count": null,
   "metadata": {},
   "outputs": [],
   "source": [
    "continents_features_log10 = np.zeros((continents_features.shape))\n",
    "# Scale features by log10 scale\n",
    "for i in range(len(continents_features)):\n",
    "    for continent_idx in range(10):\n",
    "        if continents_features[i, continent_idx, 1] != 0:\n",
    "            continents_features_log10[i,continent_idx,1] = np.log10(continents_features[i, continent_idx, 1])\n",
    "\n",
    "continents_features_log10.max()"
   ]
  },
  {
   "cell_type": "code",
   "execution_count": null,
   "metadata": {},
   "outputs": [],
   "source": [
    "continents_features_log10.shape"
   ]
  },
  {
   "cell_type": "code",
   "execution_count": null,
   "metadata": {},
   "outputs": [],
   "source": [
    "continents_features_log10[:,:,0].max()"
   ]
  },
  {
   "cell_type": "code",
   "execution_count": null,
   "metadata": {},
   "outputs": [],
   "source": [
    "visualize_case_trends(continents_features_log10[:,:,1])"
   ]
  },
  {
   "cell_type": "code",
   "execution_count": null,
   "metadata": {},
   "outputs": [],
   "source": []
  },
  {
   "cell_type": "code",
   "execution_count": null,
   "metadata": {},
   "outputs": [],
   "source": []
  },
  {
   "cell_type": "markdown",
   "metadata": {},
   "source": [
    "# Visualizing and Checking Flight Data"
   ]
  },
  {
   "cell_type": "code",
   "execution_count": null,
   "metadata": {},
   "outputs": [],
   "source": [
    "continents_flights_file = np.load(\"./continents_flight_np.npz\")\n",
    "continents_flights_file.files"
   ]
  },
  {
   "cell_type": "code",
   "execution_count": null,
   "metadata": {},
   "outputs": [],
   "source": [
    "continents_flights = continents_flights_file[\"arr_0\"]\n",
    "continents_flights.shape"
   ]
  },
  {
   "cell_type": "code",
   "execution_count": null,
   "metadata": {},
   "outputs": [],
   "source": [
    "sns.reset_orig()\n",
    "plt.figure(figsize=(30, 15))\n",
    "for j in range(10):\n",
    "    ax = plt.subplot(5,2,j+1)\n",
    "    for i in range(10):\n",
    "        if i != j:\n",
    "            plt.plot(continents_flights[:,j,i], label=continents[i])\n",
    "        else:\n",
    "            plt.plot(np.zeros((len(continents_flights))), label=continents[i])\n",
    "    plt.title(continents[j] + \" to Other Continents\")\n",
    "    plt.legend(loc='center left', bbox_to_anchor=(1, 0.5))\n",
    "    plt.xlabel('Day Index')  \n",
    "    plt.ylabel('Raw Number of Flights')\n",
    "\n",
    "plt.suptitle(\"Continents Total Dataset Flight Trends (One-Hop Connections Included)\")\n",
    "plt.tight_layout()\n",
    "plt.savefig(\"./total_raw_flight_trends_continents_v16.png\", facecolor=\"white\", bbox_inches=\"tight\")"
   ]
  },
  {
   "cell_type": "code",
   "execution_count": null,
   "metadata": {},
   "outputs": [],
   "source": []
  }
 ],
 "metadata": {
  "interpreter": {
   "hash": "43c3ec5cb0d81e7b9f9908a53ca28aa4318265e5d52f388cac911a9765dd2a07"
  },
  "kernelspec": {
   "display_name": "Python 3.8.12 ('gnn')",
   "language": "python",
   "name": "python3"
  },
  "language_info": {
   "codemirror_mode": {
    "name": "ipython",
    "version": 3
   },
   "file_extension": ".py",
   "mimetype": "text/x-python",
   "name": "python",
   "nbconvert_exporter": "python",
   "pygments_lexer": "ipython3",
   "version": "3.8.12"
  },
  "orig_nbformat": 4
 },
 "nbformat": 4,
 "nbformat_minor": 2
}
