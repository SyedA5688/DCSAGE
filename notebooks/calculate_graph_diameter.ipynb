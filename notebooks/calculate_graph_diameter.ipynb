{
 "cells": [
  {
   "cell_type": "code",
   "execution_count": 4,
   "metadata": {},
   "outputs": [],
   "source": [
    "import networkx as nx\n",
    "from networkx import diameter\n",
    "\n",
    "import torch\n",
    "import numpy as np\n",
    "from torch.utils.data import Dataset\n",
    "\n",
    "import os\n",
    "import time\n",
    "import json\n",
    "import numpy as np\n",
    "import multiprocessing as mp\n",
    "from random import seed\n",
    "from torch.utils.data import DataLoader"
   ]
  },
  {
   "cell_type": "code",
   "execution_count": null,
   "metadata": {},
   "outputs": [],
   "source": [
    "# unperturbed_dataset = Covid10CountriesUnperturbedDataset(\n",
    "#         dataset_npz_path=\"/Users/syedrizvi/Desktop/Projects/GNN_Project/DCSAGE/Node-Perturbation/datasets/10_continents_dataset_v19_node_pert.npz\",\n",
    "#         window_size=7, \n",
    "#         data_split=args[\"dataset_split\"], \n",
    "#         avg_graph_structure=args[\"avg_graph_structure\"])\n",
    "#     unperturbed_dataloader = DataLoader(unperturbed_dataset, batch_size=args['batch_size'], shuffle=False)"
   ]
  },
  {
   "cell_type": "code",
   "execution_count": 2,
   "metadata": {},
   "outputs": [],
   "source": [
    "data = np.load(\"/Users/syedrizvi/Desktop/Projects/GNN_Project/DCSAGE/Node-Perturbation/datasets/10_continents_dataset_v19_node_pert.npz\")"
   ]
  },
  {
   "cell_type": "code",
   "execution_count": 3,
   "metadata": {},
   "outputs": [
    {
     "data": {
      "text/plain": [
       "['feature_matrix_smooth',\n",
       " 'feature_matrix_unsmooth',\n",
       " 'flight_matrix_unscaled',\n",
       " 'flight_matrix_log10_scaled']"
      ]
     },
     "execution_count": 3,
     "metadata": {},
     "output_type": "execute_result"
    }
   ],
   "source": [
    "data.files"
   ]
  },
  {
   "cell_type": "code",
   "execution_count": 12,
   "metadata": {},
   "outputs": [],
   "source": [
    "feat_matrix = data['feature_matrix_smooth']\n",
    "flight_matrix = data[\"flight_matrix_log10_scaled\"]"
   ]
  },
  {
   "cell_type": "code",
   "execution_count": 14,
   "metadata": {},
   "outputs": [
    {
     "data": {
      "text/plain": [
       "(567, 10, 10)"
      ]
     },
     "execution_count": 14,
     "metadata": {},
     "output_type": "execute_result"
    }
   ],
   "source": [
    "flight_matrix.shape"
   ]
  },
  {
   "cell_type": "code",
   "execution_count": 13,
   "metadata": {},
   "outputs": [
    {
     "name": "stdout",
     "output_type": "stream",
     "text": [
      "Diameter of day 0 in flight matrix: 2\n",
      "Diameter of day 1 in flight matrix: 2\n",
      "Diameter of day 2 in flight matrix: 2\n",
      "Diameter of day 3 in flight matrix: 2\n",
      "Diameter of day 4 in flight matrix: 2\n",
      "Diameter of day 5 in flight matrix: 2\n",
      "Diameter of day 6 in flight matrix: 2\n",
      "Diameter of day 7 in flight matrix: 2\n",
      "Diameter of day 8 in flight matrix: 2\n",
      "Diameter of day 9 in flight matrix: 2\n",
      "Diameter of day 10 in flight matrix: 2\n",
      "Diameter of day 11 in flight matrix: 2\n",
      "Diameter of day 12 in flight matrix: 2\n",
      "Diameter of day 13 in flight matrix: 2\n",
      "Diameter of day 14 in flight matrix: 2\n",
      "Diameter of day 15 in flight matrix: 2\n",
      "Diameter of day 16 in flight matrix: 2\n",
      "Diameter of day 17 in flight matrix: 2\n",
      "Diameter of day 18 in flight matrix: 2\n",
      "Diameter of day 19 in flight matrix: 2\n",
      "Diameter of day 20 in flight matrix: 2\n",
      "Diameter of day 21 in flight matrix: 2\n",
      "Diameter of day 22 in flight matrix: 2\n",
      "Diameter of day 23 in flight matrix: 2\n",
      "Diameter of day 24 in flight matrix: 2\n",
      "Diameter of day 25 in flight matrix: 2\n",
      "Diameter of day 26 in flight matrix: 2\n",
      "Diameter of day 27 in flight matrix: 2\n",
      "Diameter of day 28 in flight matrix: 2\n",
      "Diameter of day 29 in flight matrix: 2\n",
      "Diameter of day 30 in flight matrix: 2\n",
      "Diameter of day 31 in flight matrix: 2\n",
      "Diameter of day 32 in flight matrix: 2\n",
      "Diameter of day 33 in flight matrix: 2\n",
      "Diameter of day 34 in flight matrix: 2\n",
      "Diameter of day 35 in flight matrix: 2\n",
      "Diameter of day 36 in flight matrix: 2\n",
      "Diameter of day 37 in flight matrix: 2\n",
      "Diameter of day 38 in flight matrix: 2\n",
      "Diameter of day 39 in flight matrix: 2\n",
      "Diameter of day 40 in flight matrix: 2\n",
      "Diameter of day 41 in flight matrix: 2\n",
      "Diameter of day 42 in flight matrix: 2\n",
      "Diameter of day 43 in flight matrix: 2\n",
      "Diameter of day 44 in flight matrix: 2\n",
      "Diameter of day 45 in flight matrix: 2\n",
      "Diameter of day 46 in flight matrix: 2\n",
      "Diameter of day 47 in flight matrix: 2\n",
      "Diameter of day 48 in flight matrix: 2\n",
      "Diameter of day 49 in flight matrix: 2\n",
      "Diameter of day 50 in flight matrix: 2\n",
      "Diameter of day 51 in flight matrix: 2\n",
      "Diameter of day 52 in flight matrix: 2\n",
      "Diameter of day 53 in flight matrix: 2\n",
      "Diameter of day 54 in flight matrix: 2\n",
      "Diameter of day 55 in flight matrix: 2\n",
      "Diameter of day 56 in flight matrix: 2\n",
      "Diameter of day 57 in flight matrix: 2\n",
      "Diameter of day 58 in flight matrix: 2\n",
      "Diameter of day 59 in flight matrix: 2\n",
      "Diameter of day 60 in flight matrix: 2\n",
      "Diameter of day 61 in flight matrix: 2\n",
      "Diameter of day 62 in flight matrix: 2\n",
      "Diameter of day 63 in flight matrix: 2\n",
      "Diameter of day 64 in flight matrix: 2\n",
      "Diameter of day 65 in flight matrix: 2\n",
      "Diameter of day 66 in flight matrix: 2\n",
      "Diameter of day 67 in flight matrix: 2\n",
      "Diameter of day 68 in flight matrix: 2\n",
      "Diameter of day 69 in flight matrix: 2\n",
      "Diameter of day 70 in flight matrix: 2\n",
      "Diameter of day 71 in flight matrix: 2\n",
      "Diameter of day 72 in flight matrix: 2\n",
      "Diameter of day 73 in flight matrix: 2\n",
      "Diameter of day 74 in flight matrix: 2\n",
      "Diameter of day 75 in flight matrix: 2\n",
      "Diameter of day 76 in flight matrix: 2\n",
      "Diameter of day 77 in flight matrix: 2\n",
      "Diameter of day 78 in flight matrix: 2\n",
      "Diameter of day 79 in flight matrix: 2\n",
      "Diameter of day 80 in flight matrix: 2\n",
      "Diameter of day 81 in flight matrix: 2\n",
      "Diameter of day 82 in flight matrix: 2\n",
      "Diameter of day 83 in flight matrix: 2\n",
      "Diameter of day 84 in flight matrix: 2\n",
      "Diameter of day 85 in flight matrix: 2\n",
      "Diameter of day 86 in flight matrix: 2\n",
      "Diameter of day 87 in flight matrix: 2\n",
      "Diameter of day 88 in flight matrix: 2\n",
      "Diameter of day 89 in flight matrix: 2\n",
      "Diameter of day 90 in flight matrix: 2\n",
      "Diameter of day 91 in flight matrix: 2\n",
      "Diameter of day 92 in flight matrix: 2\n",
      "Diameter of day 93 in flight matrix: 2\n",
      "Diameter of day 94 in flight matrix: 2\n",
      "Diameter of day 95 in flight matrix: 2\n",
      "Diameter of day 96 in flight matrix: 2\n",
      "Diameter of day 97 in flight matrix: 2\n",
      "Diameter of day 98 in flight matrix: 2\n",
      "Diameter of day 99 in flight matrix: 2\n",
      "Diameter of day 100 in flight matrix: 2\n",
      "Diameter of day 101 in flight matrix: 2\n",
      "Diameter of day 102 in flight matrix: 2\n",
      "Diameter of day 103 in flight matrix: 2\n",
      "Diameter of day 104 in flight matrix: 2\n",
      "Diameter of day 105 in flight matrix: 2\n",
      "Diameter of day 106 in flight matrix: 2\n",
      "Diameter of day 107 in flight matrix: 2\n",
      "Diameter of day 108 in flight matrix: 2\n",
      "Diameter of day 109 in flight matrix: 2\n",
      "Diameter of day 110 in flight matrix: 2\n",
      "Diameter of day 111 in flight matrix: 2\n",
      "Diameter of day 112 in flight matrix: 2\n",
      "Diameter of day 113 in flight matrix: 2\n",
      "Diameter of day 114 in flight matrix: 2\n",
      "Diameter of day 115 in flight matrix: 2\n",
      "Diameter of day 116 in flight matrix: 2\n",
      "Diameter of day 117 in flight matrix: 2\n",
      "Diameter of day 118 in flight matrix: 2\n",
      "Diameter of day 119 in flight matrix: 2\n",
      "Diameter of day 120 in flight matrix: 2\n",
      "Diameter of day 121 in flight matrix: 2\n",
      "Diameter of day 122 in flight matrix: 2\n",
      "Diameter of day 123 in flight matrix: 2\n",
      "Diameter of day 124 in flight matrix: 2\n",
      "Diameter of day 125 in flight matrix: 2\n",
      "Diameter of day 126 in flight matrix: 2\n",
      "Diameter of day 127 in flight matrix: 2\n",
      "Diameter of day 128 in flight matrix: 2\n",
      "Diameter of day 129 in flight matrix: 2\n",
      "Diameter of day 130 in flight matrix: 2\n",
      "Diameter of day 131 in flight matrix: 2\n",
      "Diameter of day 132 in flight matrix: 2\n",
      "Diameter of day 133 in flight matrix: 2\n",
      "Diameter of day 134 in flight matrix: 2\n",
      "Diameter of day 135 in flight matrix: 2\n",
      "Diameter of day 136 in flight matrix: 2\n",
      "Diameter of day 137 in flight matrix: 2\n",
      "Diameter of day 138 in flight matrix: 2\n",
      "Diameter of day 139 in flight matrix: 2\n",
      "Diameter of day 140 in flight matrix: 2\n",
      "Diameter of day 141 in flight matrix: 2\n",
      "Diameter of day 142 in flight matrix: 2\n",
      "Diameter of day 143 in flight matrix: 2\n",
      "Diameter of day 144 in flight matrix: 2\n",
      "Diameter of day 145 in flight matrix: 2\n",
      "Diameter of day 146 in flight matrix: 2\n",
      "Diameter of day 147 in flight matrix: 2\n",
      "Diameter of day 148 in flight matrix: 2\n",
      "Diameter of day 149 in flight matrix: 2\n",
      "Diameter of day 150 in flight matrix: 2\n",
      "Diameter of day 151 in flight matrix: 2\n",
      "Diameter of day 152 in flight matrix: 2\n",
      "Diameter of day 153 in flight matrix: 2\n"
     ]
    },
    {
     "ename": "NetworkXError",
     "evalue": "Found infinite path length because the graph is not connected",
     "output_type": "error",
     "traceback": [
      "\u001b[0;31m---------------------------------------------------------------------------\u001b[0m",
      "\u001b[0;31mNetworkXError\u001b[0m                             Traceback (most recent call last)",
      "\u001b[0;32m/var/folders/0l/vt8_v_554d93s6xpvbldp8kr0000gn/T/ipykernel_3532/3786039669.py\u001b[0m in \u001b[0;36m<module>\u001b[0;34m\u001b[0m\n\u001b[1;32m      1\u001b[0m \u001b[0;32mfor\u001b[0m \u001b[0mk\u001b[0m \u001b[0;32min\u001b[0m \u001b[0mrange\u001b[0m\u001b[0;34m(\u001b[0m\u001b[0mlen\u001b[0m\u001b[0;34m(\u001b[0m\u001b[0mflight_matrix\u001b[0m\u001b[0;34m)\u001b[0m\u001b[0;34m)\u001b[0m\u001b[0;34m:\u001b[0m\u001b[0;34m\u001b[0m\u001b[0;34m\u001b[0m\u001b[0m\n\u001b[1;32m      2\u001b[0m     \u001b[0mG\u001b[0m \u001b[0;34m=\u001b[0m \u001b[0mnx\u001b[0m\u001b[0;34m.\u001b[0m\u001b[0mfrom_numpy_matrix\u001b[0m\u001b[0;34m(\u001b[0m\u001b[0mflight_matrix\u001b[0m\u001b[0;34m[\u001b[0m\u001b[0mk\u001b[0m\u001b[0;34m,\u001b[0m\u001b[0;34m:\u001b[0m\u001b[0;34m,\u001b[0m\u001b[0;34m:\u001b[0m\u001b[0;34m]\u001b[0m\u001b[0;34m)\u001b[0m\u001b[0;34m\u001b[0m\u001b[0;34m\u001b[0m\u001b[0m\n\u001b[0;32m----> 3\u001b[0;31m     \u001b[0mprint\u001b[0m\u001b[0;34m(\u001b[0m\u001b[0;34m\"Diameter of day {} in flight matrix: {}\"\u001b[0m\u001b[0;34m.\u001b[0m\u001b[0mformat\u001b[0m\u001b[0;34m(\u001b[0m\u001b[0mk\u001b[0m\u001b[0;34m,\u001b[0m \u001b[0mdiameter\u001b[0m\u001b[0;34m(\u001b[0m\u001b[0mG\u001b[0m\u001b[0;34m)\u001b[0m\u001b[0;34m)\u001b[0m\u001b[0;34m)\u001b[0m\u001b[0;34m\u001b[0m\u001b[0;34m\u001b[0m\u001b[0m\n\u001b[0m",
      "\u001b[0;32m/opt/homebrew/Caskroom/miniforge/base/envs/gnn/lib/python3.8/site-packages/networkx/algorithms/distance_measures.py\u001b[0m in \u001b[0;36mdiameter\u001b[0;34m(G, e, usebounds)\u001b[0m\n\u001b[1;32m    297\u001b[0m         \u001b[0;32mreturn\u001b[0m \u001b[0mextrema_bounding\u001b[0m\u001b[0;34m(\u001b[0m\u001b[0mG\u001b[0m\u001b[0;34m,\u001b[0m \u001b[0mcompute\u001b[0m\u001b[0;34m=\u001b[0m\u001b[0;34m\"diameter\"\u001b[0m\u001b[0;34m)\u001b[0m\u001b[0;34m\u001b[0m\u001b[0;34m\u001b[0m\u001b[0m\n\u001b[1;32m    298\u001b[0m     \u001b[0;32mif\u001b[0m \u001b[0me\u001b[0m \u001b[0;32mis\u001b[0m \u001b[0;32mNone\u001b[0m\u001b[0;34m:\u001b[0m\u001b[0;34m\u001b[0m\u001b[0;34m\u001b[0m\u001b[0m\n\u001b[0;32m--> 299\u001b[0;31m         \u001b[0me\u001b[0m \u001b[0;34m=\u001b[0m \u001b[0meccentricity\u001b[0m\u001b[0;34m(\u001b[0m\u001b[0mG\u001b[0m\u001b[0;34m)\u001b[0m\u001b[0;34m\u001b[0m\u001b[0;34m\u001b[0m\u001b[0m\n\u001b[0m\u001b[1;32m    300\u001b[0m     \u001b[0;32mreturn\u001b[0m \u001b[0mmax\u001b[0m\u001b[0;34m(\u001b[0m\u001b[0me\u001b[0m\u001b[0;34m.\u001b[0m\u001b[0mvalues\u001b[0m\u001b[0;34m(\u001b[0m\u001b[0;34m)\u001b[0m\u001b[0;34m)\u001b[0m\u001b[0;34m\u001b[0m\u001b[0;34m\u001b[0m\u001b[0m\n\u001b[1;32m    301\u001b[0m \u001b[0;34m\u001b[0m\u001b[0m\n",
      "\u001b[0;32m/opt/homebrew/Caskroom/miniforge/base/envs/gnn/lib/python3.8/site-packages/networkx/algorithms/distance_measures.py\u001b[0m in \u001b[0;36meccentricity\u001b[0;34m(G, v, sp)\u001b[0m\n\u001b[1;32m    262\u001b[0m             \u001b[0;32melse\u001b[0m\u001b[0;34m:\u001b[0m\u001b[0;34m\u001b[0m\u001b[0;34m\u001b[0m\u001b[0m\n\u001b[1;32m    263\u001b[0m                 \u001b[0mmsg\u001b[0m \u001b[0;34m=\u001b[0m \u001b[0;34m\"Found infinite path length because the graph is not\"\u001b[0m \u001b[0;34m\" connected\"\u001b[0m\u001b[0;34m\u001b[0m\u001b[0;34m\u001b[0m\u001b[0m\n\u001b[0;32m--> 264\u001b[0;31m             \u001b[0;32mraise\u001b[0m \u001b[0mnx\u001b[0m\u001b[0;34m.\u001b[0m\u001b[0mNetworkXError\u001b[0m\u001b[0;34m(\u001b[0m\u001b[0mmsg\u001b[0m\u001b[0;34m)\u001b[0m\u001b[0;34m\u001b[0m\u001b[0;34m\u001b[0m\u001b[0m\n\u001b[0m\u001b[1;32m    265\u001b[0m \u001b[0;34m\u001b[0m\u001b[0m\n\u001b[1;32m    266\u001b[0m         \u001b[0me\u001b[0m\u001b[0;34m[\u001b[0m\u001b[0mn\u001b[0m\u001b[0;34m]\u001b[0m \u001b[0;34m=\u001b[0m \u001b[0mmax\u001b[0m\u001b[0;34m(\u001b[0m\u001b[0mlength\u001b[0m\u001b[0;34m.\u001b[0m\u001b[0mvalues\u001b[0m\u001b[0;34m(\u001b[0m\u001b[0;34m)\u001b[0m\u001b[0;34m)\u001b[0m\u001b[0;34m\u001b[0m\u001b[0;34m\u001b[0m\u001b[0m\n",
      "\u001b[0;31mNetworkXError\u001b[0m: Found infinite path length because the graph is not connected"
     ]
    }
   ],
   "source": [
    "for k in range(len(flight_matrix)):\n",
    "    G = nx.from_numpy_matrix(flight_matrix[k,:,:])\n",
    "    print(\"Diameter of day {} in flight matrix: {}\".format(k, diameter(G)))"
   ]
  },
  {
   "cell_type": "code",
   "execution_count": null,
   "metadata": {},
   "outputs": [],
   "source": []
  },
  {
   "cell_type": "code",
   "execution_count": null,
   "metadata": {},
   "outputs": [],
   "source": []
  }
 ],
 "metadata": {
  "interpreter": {
   "hash": "43c3ec5cb0d81e7b9f9908a53ca28aa4318265e5d52f388cac911a9765dd2a07"
  },
  "kernelspec": {
   "display_name": "Python 3.8.12 ('gnn')",
   "language": "python",
   "name": "python3"
  },
  "language_info": {
   "codemirror_mode": {
    "name": "ipython",
    "version": 3
   },
   "file_extension": ".py",
   "mimetype": "text/x-python",
   "name": "python",
   "nbconvert_exporter": "python",
   "pygments_lexer": "ipython3",
   "version": "3.8.12"
  },
  "orig_nbformat": 4
 },
 "nbformat": 4,
 "nbformat_minor": 2
}
