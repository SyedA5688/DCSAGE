{
 "cells": [
  {
   "cell_type": "code",
   "execution_count": 1,
   "metadata": {},
   "outputs": [],
   "source": [
    "import os\n",
    "import numpy as np\n",
    "import pandas as pd\n",
    "import matplotlib.pyplot as plt\n",
    "import seaborn as sns"
   ]
  },
  {
   "cell_type": "code",
   "execution_count": 2,
   "metadata": {},
   "outputs": [],
   "source": [
    "import torch\n",
    "from torch.utils.data import Dataset, DataLoader\n",
    "from models.dcsage import DynamicAdjSAGE\n",
    "from torch_geometric.data import Data"
   ]
  },
  {
   "cell_type": "markdown",
   "metadata": {},
   "source": [
    "Global Variables"
   ]
  },
  {
   "cell_type": "code",
   "execution_count": 3,
   "metadata": {},
   "outputs": [],
   "source": [
    "ANALYSIS_DIR = \"2022-04-16-00_41_22\"\n",
    "CONTINENT_ANALYZED = \"Eastern Europe\"\n",
    "CONTINENT_NAMES = [\"Africa\", \"North America\", \"South America\", \"Oceania\", \"Eastern Europe\", \"Western Europe\", \"Middle East\", \"South Asia\", \"Southeast Asia\", \"Central Asia\"]\n",
    "DATASET_PATH = \"/Users/syedrizvi/Desktop/Projects/GNN_Project/DCSAGE/Node-Perturbation/datasets/10_continents_dataset_v19_node_pert.npz\"\n",
    "MODEL_NAME = \"DCSAGE\"\n",
    "NUM_MODELS = 100\n",
    "REC_PRED_LEN = 30\n",
    "SENSITIVITY_ORDER = [\"Western Europe\", \"North America\", \"Middle East\", \"Eastern Europe\", \"Southeast Asia\", \"Oceania\", \"South America\", \"South Asia\", \"Africa\", \"Central Asia\"]\n",
    "SENSITIVITY_ORDER_IDX = [CONTINENT_NAMES.index(SENSITIVITY_ORDER[i]) for i in range(len(SENSITIVITY_ORDER))]\n",
    "TEST_SET_WINDOW = 500\n",
    "TRAINING_PATH = \"/Users/syedrizvi/Desktop/Projects/GNN_Project/DCSAGE/Training-Code/training-runs-multiple-models/\"\n",
    "TRAINING_RUN = \"2022-04-16-00_41_22\"\n",
    "WINDOW_SIZE = 7"
   ]
  },
  {
   "cell_type": "code",
   "execution_count": null,
   "metadata": {},
   "outputs": [],
   "source": []
  },
  {
   "cell_type": "markdown",
   "metadata": {},
   "source": [
    "## Load dataset"
   ]
  },
  {
   "cell_type": "code",
   "execution_count": 4,
   "metadata": {},
   "outputs": [],
   "source": [
    "class Covid10CountriesPerturbedDataset(Dataset):\n",
    "    def __init__(self, dataset_npz_path, SENSITIVITY_ORDER_IDX, window_size=7, data_split=\"entire-dataset-smooth\", load_real_scale=True, perturb_node_steps=[-0.25,0,0,0,0,0,0,0,0,0]):\n",
    "        avg_graph_structure = False  # Not used here in favor of load_real_scale\n",
    "        ###########\n",
    "        # Load data\n",
    "        ###########\n",
    "        if data_split == \"entire-dataset-smooth\" and load_real_scale:  # Need to load real-scaled and log scale later\n",
    "            feature_matrix = np.load(dataset_npz_path)[\"feature_matrix_smooth\"]\n",
    "            flight_matrix = np.load(dataset_npz_path)[\"flight_matrix_unscaled\"]\n",
    "        # elif data_split == \"entire-dataset-smooth\" and not load_real_scale:\n",
    "        #     feature_matrix = np.load(dataset_npz_path)[\"feature_matrix_smooth\"]\n",
    "        #     flight_matrix = np.load(dataset_npz_path)[\"flight_matrix_log10_scaled\"]\n",
    "        else:\n",
    "            raise RuntimeError(\"Unknown dataset split selected\")\n",
    "        \n",
    "        assert feature_matrix.shape[0] == flight_matrix.shape[0], \"Node feature and edge attribute matrices do not match\"\n",
    "        \n",
    "        ################################################################\n",
    "        # Perturb chosen country by deleting incoming and outgoing edges\n",
    "        ################################################################\n",
    "        removed_cases = 0.\n",
    "        for node_idx, perturb_step in zip(SENSITIVITY_ORDER_IDX, perturb_node_steps):\n",
    "            removed_cases += sum(flight_matrix[TEST_SET_WINDOW, node_idx, :] * (1 - (1 + perturb_step)))\n",
    "            removed_cases += sum(flight_matrix[TEST_SET_WINDOW, :, node_idx] * (1 - (1 + perturb_step)))\n",
    "            flight_matrix[:, node_idx, :] *= (1 + perturb_step)\n",
    "            flight_matrix[:, :, node_idx] *= (1 + perturb_step)\n",
    "        \n",
    "        print(\"Cases removed: {}\".format(removed_cases))\n",
    "        \n",
    "        if load_real_scale:\n",
    "            flight_matrix = np.log10(flight_matrix, out=np.zeros_like(flight_matrix), where=(flight_matrix > 1))\n",
    "\n",
    "        self.feature_matrix = feature_matrix\n",
    "        self.flight_matrix = flight_matrix\n",
    "\n",
    "        ###############################\n",
    "        # Create sliding window dataset\n",
    "        ###############################\n",
    "        all_window_node_feat = []\n",
    "        all_window_edge_attr = []\n",
    "        all_window_edge_idx = []\n",
    "        all_window_labels = []\n",
    "        \n",
    "        for day_idx in range(0, len(feature_matrix) - window_size):\n",
    "            window_node_feat = []\n",
    "            window_edge_idx = []\n",
    "            window_edge_attr = []\n",
    "\n",
    "            for sub_day in range(day_idx, day_idx + window_size):\n",
    "                node_data = feature_matrix[sub_day]\n",
    "\n",
    "                edges_idx_array = np.full((2, 100), -1)\n",
    "                edges_attr_array = np.full((100), -1).astype(np.float32)\n",
    "                \n",
    "                if avg_graph_structure:\n",
    "                    # Calculate smoothened graph structure across window\n",
    "                    smoothened_window_flight_matrix = flight_matrix[day_idx: day_idx + window_size].mean(axis=0)  # Shape [10, 10]\n",
    "                    # Log10 scale now that adjacency is averaged\n",
    "                    for row in range(len(smoothened_window_flight_matrix)):\n",
    "                        for col in range(len(smoothened_window_flight_matrix[row])):\n",
    "                            if smoothened_window_flight_matrix[row][col] > 0:\n",
    "                                smoothened_window_flight_matrix[row][col] = np.log10(smoothened_window_flight_matrix[row][col])\n",
    "                    \n",
    "                    edge_idx = 0\n",
    "                    for row in range(len(smoothened_window_flight_matrix)):\n",
    "                        for col in range(len(smoothened_window_flight_matrix[row])):\n",
    "                            if smoothened_window_flight_matrix[row][col] > 0:\n",
    "                                edges_idx_array[0][edge_idx] = row  # row is source node\n",
    "                                edges_idx_array[1][edge_idx] = col  # col is dest node\n",
    "                                edges_attr_array[edge_idx] = smoothened_window_flight_matrix[row][col]\n",
    "                                edge_idx += 1\n",
    "                else:\n",
    "                    edge_idx = 0\n",
    "                    for row in range(len(flight_matrix[sub_day])):\n",
    "                        for col in range(len(flight_matrix[sub_day][row])):\n",
    "                            if flight_matrix[sub_day][row][col] > 0:\n",
    "                                edges_idx_array[0][edge_idx] = row\n",
    "                                edges_idx_array[1][edge_idx] = col\n",
    "                                edges_attr_array[edge_idx] = flight_matrix[sub_day][row][col]\n",
    "                                edge_idx += 1\n",
    "                \n",
    "                edges_attr_array = np.expand_dims(edges_attr_array, axis=-1)\n",
    "\n",
    "                window_node_feat.append(np.expand_dims(node_data, axis=0))\n",
    "                window_edge_idx.append(np.expand_dims(edges_idx_array, axis=0))\n",
    "                window_edge_attr.append(np.expand_dims(edges_attr_array, axis=0))\n",
    "            \n",
    "            window_node_feat = np.concatenate(window_node_feat, axis=0)  # shape (7, 10, 3)\n",
    "            window_edge_idx = np.concatenate(window_edge_idx, axis=0)  # Shape (7, 2, *num_edges=100)\n",
    "            window_edge_attr = np.concatenate(window_edge_attr, axis=0)  # Shape (7, *num_edges=100, 1)\n",
    "            window_labels = feature_matrix[day_idx + window_size, :, 1]  # Shape (10)\n",
    "\n",
    "            all_window_node_feat.append(np.expand_dims(window_node_feat, axis=0))\n",
    "            all_window_edge_attr.append(np.expand_dims(window_edge_attr, axis=0))\n",
    "            all_window_edge_idx.append(np.expand_dims(window_edge_idx, axis=0))\n",
    "            all_window_labels.append(np.expand_dims(window_labels, axis=0))\n",
    "        \n",
    "        self.all_window_node_feat = np.concatenate(all_window_node_feat, axis=0)\n",
    "        self.all_window_edge_attr = np.concatenate(all_window_edge_attr, axis=0)\n",
    "        self.all_window_edge_idx = np.concatenate(all_window_edge_idx, axis=0)\n",
    "        self.all_window_labels = np.concatenate(all_window_labels, axis=0)  # shape (dataset_len, 10)\n",
    "\n",
    "    def __len__(self):\n",
    "        return len(self.all_window_labels)\n",
    "    \n",
    "    def __getitem__(self, index):\n",
    "        window_node_feat = self.all_window_node_feat[index].astype(np.float32)  # shape (7, 10, 3)\n",
    "        window_edge_idx = self.all_window_edge_idx[index]  # shape (7, 2, *num_edges=100)\n",
    "        window_edge_idx = torch.LongTensor(window_edge_idx)\n",
    "        window_edge_attr = self.all_window_edge_attr[index]  # shape (7, *num_edges=100, 1)\n",
    "        window_labels = self.all_window_labels[index]  # shape (10)\n",
    "        \n",
    "        return window_node_feat[:,:,1:2], window_edge_idx, window_edge_attr, window_labels"
   ]
  },
  {
   "cell_type": "code",
   "execution_count": 5,
   "metadata": {},
   "outputs": [
    {
     "name": "stdout",
     "output_type": "stream",
     "text": [
      "Cases removed: 0.0\n"
     ]
    }
   ],
   "source": [
    "all_dataloaders = []\n",
    "unpert_dataset = Covid10CountriesPerturbedDataset(\n",
    "    dataset_npz_path=DATASET_PATH,\n",
    "    SENSITIVITY_ORDER_IDX=SENSITIVITY_ORDER_IDX,\n",
    "    window_size=WINDOW_SIZE,\n",
    "    data_split=\"entire-dataset-smooth\",\n",
    "    load_real_scale=True,\n",
    "    perturb_node_steps=[0,0,0,0,0,0,0,0,0,0]\n",
    ")\n",
    "unpert_dataloader = DataLoader(unpert_dataset, batch_size=800, shuffle=False)\n",
    "all_dataloaders.append(unpert_dataloader)"
   ]
  },
  {
   "cell_type": "code",
   "execution_count": 6,
   "metadata": {},
   "outputs": [
    {
     "name": "stdout",
     "output_type": "stream",
     "text": [
      "Cases removed: 1086.0\n"
     ]
    }
   ],
   "source": [
    "first_dataset = Covid10CountriesPerturbedDataset(\n",
    "    dataset_npz_path=DATASET_PATH,\n",
    "    SENSITIVITY_ORDER_IDX=SENSITIVITY_ORDER_IDX,\n",
    "    window_size=WINDOW_SIZE,\n",
    "    data_split=\"entire-dataset-smooth\",\n",
    "    load_real_scale=True,\n",
    "    perturb_node_steps=[0,-1.0,0,0,0,0,0,0,0,0]\n",
    ")\n",
    "first_dataloader = DataLoader(first_dataset, batch_size=800, shuffle=False)\n",
    "all_dataloaders.append(first_dataloader)"
   ]
  },
  {
   "cell_type": "code",
   "execution_count": 7,
   "metadata": {},
   "outputs": [
    {
     "name": "stdout",
     "output_type": "stream",
     "text": [
      "Cases removed: 543.0\n"
     ]
    }
   ],
   "source": [
    "second_dataset = Covid10CountriesPerturbedDataset(\n",
    "    dataset_npz_path=DATASET_PATH,\n",
    "    SENSITIVITY_ORDER_IDX=SENSITIVITY_ORDER_IDX,\n",
    "    window_size=WINDOW_SIZE,\n",
    "    data_split=\"entire-dataset-smooth\",\n",
    "    load_real_scale=True,\n",
    "    perturb_node_steps=[0,-0.5,0,0,0,0,0,0,0,0]\n",
    ")\n",
    "second_dataloader = DataLoader(second_dataset, batch_size=800, shuffle=False)\n",
    "all_dataloaders.append(second_dataloader)"
   ]
  },
  {
   "cell_type": "code",
   "execution_count": 8,
   "metadata": {},
   "outputs": [
    {
     "name": "stdout",
     "output_type": "stream",
     "text": [
      "Cases removed: 108.6\n"
     ]
    }
   ],
   "source": [
    "minimal_change_dataset = Covid10CountriesPerturbedDataset(\n",
    "    dataset_npz_path=DATASET_PATH,\n",
    "    SENSITIVITY_ORDER_IDX=SENSITIVITY_ORDER_IDX,\n",
    "    window_size=WINDOW_SIZE,\n",
    "    data_split=\"entire-dataset-smooth\",\n",
    "    load_real_scale=True,\n",
    "    perturb_node_steps=[0,-0.1,0,0,0,0,0,0,0,0]\n",
    ")\n",
    "minimal_change_dataloader = DataLoader(minimal_change_dataset, batch_size=800, shuffle=False)\n",
    "all_dataloaders.append(minimal_change_dataloader)"
   ]
  },
  {
   "cell_type": "code",
   "execution_count": 9,
   "metadata": {},
   "outputs": [
    {
     "name": "stdout",
     "output_type": "stream",
     "text": [
      "Cases removed: 14.0\n"
     ]
    }
   ],
   "source": [
    "africa_dataset = Covid10CountriesPerturbedDataset(\n",
    "    dataset_npz_path=DATASET_PATH,\n",
    "    SENSITIVITY_ORDER_IDX=SENSITIVITY_ORDER_IDX,\n",
    "    window_size=WINDOW_SIZE,\n",
    "    data_split=\"entire-dataset-smooth\",\n",
    "    load_real_scale=True,\n",
    "    perturb_node_steps=[0,0,0,0,0,0,0,0,0,-0.5]\n",
    ")\n",
    "africa_dataloader = DataLoader(africa_dataset, batch_size=800, shuffle=False)\n",
    "all_dataloaders.append(africa_dataloader)"
   ]
  },
  {
   "cell_type": "code",
   "execution_count": 10,
   "metadata": {},
   "outputs": [
    {
     "data": {
      "text/plain": [
       "5"
      ]
     },
     "execution_count": 10,
     "metadata": {},
     "output_type": "execute_result"
    }
   ],
   "source": [
    "len(all_dataloaders)"
   ]
  },
  {
   "cell_type": "markdown",
   "metadata": {},
   "source": [
    "Find region in bottom 5 of sensitivity but with similar connectivity to North America"
   ]
  },
  {
   "cell_type": "code",
   "execution_count": 11,
   "metadata": {},
   "outputs": [
    {
     "name": "stdout",
     "output_type": "stream",
     "text": [
      "(560, 7, 100, 1)\n",
      "(567, 10, 10)\n"
     ]
    }
   ],
   "source": [
    "# North America connectivitiy on dataset window\n",
    "print(unpert_dataset.all_window_edge_attr.shape)\n",
    "print(unpert_dataset.flight_matrix.shape)"
   ]
  },
  {
   "cell_type": "code",
   "execution_count": 12,
   "metadata": {},
   "outputs": [
    {
     "name": "stdout",
     "output_type": "stream",
     "text": [
      "Day 0, NA connections outgoing 8 incoming 8, Other connections outgoing 3, incoming 4\n",
      "Day 1, NA connections outgoing 7 incoming 7, Other connections outgoing 3, incoming 3\n",
      "Day 2, NA connections outgoing 8 incoming 8, Other connections outgoing 6, incoming 5\n",
      "Day 3, NA connections outgoing 8 incoming 8, Other connections outgoing 5, incoming 4\n",
      "Day 4, NA connections outgoing 8 incoming 8, Other connections outgoing 5, incoming 5\n",
      "Day 5, NA connections outgoing 8 incoming 8, Other connections outgoing 5, incoming 3\n",
      "Day 6, NA connections outgoing 8 incoming 8, Other connections outgoing 4, incoming 4\n"
     ]
    }
   ],
   "source": [
    "# CONTINENT_NAMES = [\"Africa\", \"North America\", \"South America\", \"Oceania\", \"Eastern Europe\", \"Western Europe\", \"Middle East\", \"South Asia\", \"Southeast Asia\", \"Central Asia\"]\n",
    "for idx in range(7):\n",
    "    north_am_outgoing_connections = (unpert_dataset.flight_matrix[TEST_SET_WINDOW + idx, 1,:] > 0).sum()\n",
    "    north_am_incoming_connections = (unpert_dataset.flight_matrix[TEST_SET_WINDOW + idx, :,1] > 0).sum()\n",
    "    other_region_outgoing_connections = (unpert_dataset.flight_matrix[TEST_SET_WINDOW + idx, 0,:] > 0).sum()\n",
    "    other_region_incoming_connections = (unpert_dataset.flight_matrix[TEST_SET_WINDOW + idx, :,0] > 0).sum()\n",
    "    print(\"Day {}, NA connections outgoing {} incoming {}, Other connections outgoing {}, incoming {}\"\n",
    "        .format(idx, north_am_outgoing_connections, north_am_incoming_connections, other_region_outgoing_connections, other_region_incoming_connections))"
   ]
  },
  {
   "cell_type": "code",
   "execution_count": 13,
   "metadata": {},
   "outputs": [
    {
     "data": {
      "text/plain": [
       "23.329192560353395"
      ]
     },
     "execution_count": 13,
     "metadata": {},
     "output_type": "execute_result"
    }
   ],
   "source": [
    "unpert_dataset.flight_matrix[TEST_SET_WINDOW,1,:].sum() + unpert_dataset.flight_matrix[TEST_SET_WINDOW,:,1].sum()"
   ]
  },
  {
   "cell_type": "code",
   "execution_count": 14,
   "metadata": {},
   "outputs": [
    {
     "data": {
      "text/plain": [
       "3.0492180226701815"
      ]
     },
     "execution_count": 14,
     "metadata": {},
     "output_type": "execute_result"
    }
   ],
   "source": [
    "unpert_dataset.flight_matrix[TEST_SET_WINDOW,9,:].sum() + unpert_dataset.flight_matrix[TEST_SET_WINDOW,:,9].sum()"
   ]
  },
  {
   "cell_type": "code",
   "execution_count": 15,
   "metadata": {},
   "outputs": [
    {
     "data": {
      "text/plain": [
       "array([[0.        , 2.60638137, 1.11394335, 1.79239169, 0.        ],\n",
       "       [2.55145   , 0.        , 1.62324929, 1.73239376, 0.69897   ],\n",
       "       [1.34242268, 1.76342799, 0.        , 1.36172784, 0.        ],\n",
       "       [1.70757018, 1.62324929, 1.2787536 , 0.        , 0.        ],\n",
       "       [0.        , 0.90308999, 0.        , 0.        , 0.        ]])"
      ]
     },
     "execution_count": 15,
     "metadata": {},
     "output_type": "execute_result"
    }
   ],
   "source": [
    "unpert_dataset.flight_matrix[TEST_SET_WINDOW, 5:, 5:]"
   ]
  },
  {
   "cell_type": "code",
   "execution_count": 16,
   "metadata": {},
   "outputs": [
    {
     "data": {
      "text/plain": [
       "array([[0.        , 2.60638137, 1.11394335, 1.79239169, 0.        ],\n",
       "       [2.55145   , 0.        , 1.62324929, 1.73239376, 0.39794001],\n",
       "       [1.34242268, 1.76342799, 0.        , 1.36172784, 0.        ],\n",
       "       [1.70757018, 1.62324929, 1.2787536 , 0.        , 0.        ],\n",
       "       [0.        , 0.60205999, 0.        , 0.        , 0.        ]])"
      ]
     },
     "execution_count": 16,
     "metadata": {},
     "output_type": "execute_result"
    }
   ],
   "source": [
    "africa_dataset.flight_matrix[TEST_SET_WINDOW, 5:, 5:]"
   ]
  },
  {
   "cell_type": "code",
   "execution_count": null,
   "metadata": {},
   "outputs": [],
   "source": []
  },
  {
   "cell_type": "markdown",
   "metadata": {},
   "source": [
    "## Obtain model predictions on chosen test set window"
   ]
  },
  {
   "cell_type": "code",
   "execution_count": 17,
   "metadata": {},
   "outputs": [
    {
     "name": "stdout",
     "output_type": "stream",
     "text": [
      "Processing model 0\n",
      "Processing model 20\n",
      "Processing model 40\n",
      "Processing model 60\n",
      "Processing model 80\n"
     ]
    }
   ],
   "source": [
    "all_model_predictions = []\n",
    "for model_idx in range(100):\n",
    "    if model_idx % 20 == 0:\n",
    "        print(\"Processing model {}\".format(model_idx))\n",
    "    ######## Load model checkpoint ########\n",
    "    model = DynamicAdjSAGE(\n",
    "        node_features=1, \n",
    "        emb_dim=10, \n",
    "        window_size=WINDOW_SIZE, \n",
    "        output=1, \n",
    "        training=True, \n",
    "        lstm_type=\"vanilla\", \n",
    "        name=\"DCSAGE\"\n",
    "    )\n",
    "    checkpoint = torch.load(os.path.join(TRAINING_PATH, TRAINING_RUN, \"model_\" + str(model_idx) + \".pth\"))\n",
    "    model.load_state_dict(checkpoint['model_state_dict'])\n",
    "    model.eval()\n",
    "\n",
    "    model_predictions = []\n",
    "    with torch.no_grad():\n",
    "        for idx, dataloader in enumerate(all_dataloaders):\n",
    "            overwrite_window_idx = TEST_SET_WINDOW\n",
    "\n",
    "            ##############################\n",
    "            # Run recursive testing loop #\n",
    "            ##############################\n",
    "            extended_window_ncases = torch.zeros(REC_PRED_LEN + WINDOW_SIZE, 10)  # [37, 10]\n",
    "            assert dataloader.dataset[overwrite_window_idx][0].shape[2] == 1, \"Recursive prediction code made for 1 node feat currently\"\n",
    "            extended_window_ncases[0:WINDOW_SIZE,:] = torch.from_numpy(dataloader.dataset[overwrite_window_idx][0][:,:,0])\n",
    "\n",
    "            for batch_window_node_feat, batch_window_edge_idx, batch_window_edge_attr, batch_window_labels in dataloader:\n",
    "\n",
    "                for count, window_idx in enumerate(range(overwrite_window_idx, overwrite_window_idx + REC_PRED_LEN)):\n",
    "                    window_node_feat = batch_window_node_feat[window_idx]\n",
    "                    window_edge_idx = batch_window_edge_idx[window_idx]\n",
    "                    window_edge_attr = batch_window_edge_attr[window_idx]\n",
    "                    window_labels = batch_window_labels[window_idx]\n",
    "                    \n",
    "                    if count > 0:\n",
    "                        window_node_feat[:,:,0] = extended_window_ncases[count:count + WINDOW_SIZE]\n",
    "\n",
    "                    h_1, c_1, h_2, c_2 = None, None, None, None\n",
    "                    for day_idx in range(len(window_node_feat)):\n",
    "                        day_node_feat = window_node_feat[day_idx]\n",
    "                        day_edge_idx = window_edge_idx[day_idx]\n",
    "                        day_edge_attr = window_edge_attr[day_idx]\n",
    "\n",
    "                        cutoff_idx = day_edge_idx[0].tolist().index(-1)\n",
    "                        day_edge_idx = day_edge_idx[:, :cutoff_idx]\n",
    "                        day_edge_attr = day_edge_attr[:cutoff_idx, :]\n",
    "                        \n",
    "                        day_graph = Data(x=day_node_feat, edge_index=day_edge_idx, edge_attr=day_edge_attr)\n",
    "                        y_hat, h_1, c_1, h_2, c_2 = model(day_graph, h_1, c_1, h_2, c_2, day_idx)\n",
    "                        \n",
    "                    extended_window_ncases[count + WINDOW_SIZE, :] = y_hat[:,0]\n",
    "            \n",
    "            extended_window_ncases = extended_window_ncases[WINDOW_SIZE:,:].numpy()  # [30, 10]\n",
    "            model_predictions.append(extended_window_ncases)\n",
    "    all_model_predictions.append(model_predictions)"
   ]
  },
  {
   "cell_type": "code",
   "execution_count": 18,
   "metadata": {},
   "outputs": [
    {
     "name": "stdout",
     "output_type": "stream",
     "text": [
      "Shape of final array: (100, 5, 30, 10)\n"
     ]
    }
   ],
   "source": [
    "all_model_predictions_np = np.array(all_model_predictions)\n",
    "print(\"Shape of final array:\", all_model_predictions_np.shape)"
   ]
  },
  {
   "cell_type": "code",
   "execution_count": 19,
   "metadata": {},
   "outputs": [
    {
     "name": "stdout",
     "output_type": "stream",
     "text": [
      "Done.\n",
      "\n"
     ]
    }
   ],
   "source": [
    "# Save numpy array\n",
    "np.save(\"./100_models_test_set_analysis_predictions\", all_model_predictions_np)\n",
    "print(\"Done.\\n\")"
   ]
  },
  {
   "cell_type": "code",
   "execution_count": null,
   "metadata": {},
   "outputs": [],
   "source": []
  },
  {
   "cell_type": "markdown",
   "metadata": {},
   "source": [
    "## Apply bias corrections"
   ]
  },
  {
   "cell_type": "code",
   "execution_count": 20,
   "metadata": {},
   "outputs": [
    {
     "name": "stdout",
     "output_type": "stream",
     "text": [
      "(10,)\n"
     ]
    },
    {
     "data": {
      "text/plain": [
       "array([0.96605238, 1.05199313, 1.04760458, 0.65700955, 1.00581322,\n",
       "       1.0091801 , 1.00220286, 1.03440618, 0.96381839, 0.87942002])"
      ]
     },
     "execution_count": 20,
     "metadata": {},
     "output_type": "execute_result"
    }
   ],
   "source": [
    "bias_corrections = np.load(\"./2022-04-16-00_41_22_bias_corrections.npy\")\n",
    "print(bias_corrections.shape)\n",
    "bias_corrections"
   ]
  },
  {
   "cell_type": "code",
   "execution_count": 21,
   "metadata": {},
   "outputs": [
    {
     "data": {
      "text/plain": [
       "(100, 5, 30, 10)"
      ]
     },
     "execution_count": 21,
     "metadata": {},
     "output_type": "execute_result"
    }
   ],
   "source": [
    "all_model_predictions_np.shape"
   ]
  },
  {
   "cell_type": "code",
   "execution_count": 22,
   "metadata": {},
   "outputs": [
    {
     "name": "stdout",
     "output_type": "stream",
     "text": [
      "Before: Max val is 5.781049728393555\n"
     ]
    }
   ],
   "source": [
    "print(\"Before: Max val is {}\".format(all_model_predictions_np.max()))  # about 5.59\n",
    "# all_model_predictions_np.argmax(axis=3)  # 5, western europe"
   ]
  },
  {
   "cell_type": "code",
   "execution_count": 23,
   "metadata": {},
   "outputs": [
    {
     "name": "stdout",
     "output_type": "stream",
     "text": [
      "After: Max val is 6.081624507904053\n"
     ]
    }
   ],
   "source": [
    "for node_idx in range(all_model_predictions_np.shape[3]):\n",
    "    all_model_predictions_np[:,:,:,node_idx] *= bias_corrections[node_idx]\n",
    "\n",
    "print(\"After: Max val is {}\".format(all_model_predictions_np.max()))"
   ]
  },
  {
   "cell_type": "code",
   "execution_count": null,
   "metadata": {},
   "outputs": [],
   "source": []
  },
  {
   "cell_type": "markdown",
   "metadata": {},
   "source": [
    "## Calculate sensitivity scores based on model predictions"
   ]
  },
  {
   "cell_type": "code",
   "execution_count": 24,
   "metadata": {},
   "outputs": [
    {
     "data": {
      "text/plain": [
       "(100, 5, 30, 10)"
      ]
     },
     "execution_count": 24,
     "metadata": {},
     "output_type": "execute_result"
    }
   ],
   "source": [
    "all_model_predictions_np.shape\n",
    "# Index 0 is unperturbed\n",
    "# Index 1 is 50% reduction\n",
    "# index 2 is 50% increase\n",
    "\n",
    "# [100 DCSAGE models, 5 dataloaders, 30 days, 10 node case predictions]"
   ]
  },
  {
   "cell_type": "code",
   "execution_count": 25,
   "metadata": {},
   "outputs": [
    {
     "data": {
      "text/plain": [
       "(100, 10)"
      ]
     },
     "execution_count": 25,
     "metadata": {},
     "output_type": "execute_result"
    }
   ],
   "source": [
    "first_dataset_summed_diffs = np.zeros((all_model_predictions_np.shape[0], all_model_predictions_np.shape[3]))\n",
    "second_dataset_summed_diffs = np.zeros((all_model_predictions_np.shape[0], all_model_predictions_np.shape[3]))\n",
    "NA_min_change_summed_diffs = np.zeros((all_model_predictions_np.shape[0], all_model_predictions_np.shape[3]))\n",
    "AF_summed_diffs = np.zeros((all_model_predictions_np.shape[0], all_model_predictions_np.shape[3]))\n",
    "AF_summed_diffs.shape"
   ]
  },
  {
   "cell_type": "code",
   "execution_count": 26,
   "metadata": {},
   "outputs": [],
   "source": [
    "for model_idx in range(all_model_predictions_np.shape[0]):\n",
    "    for node_idx in range(10):  # affected geographical region\n",
    "        if node_idx != 1:  # don't calculate difference in prediction for a region if that region is perturbed\n",
    "            reduction_difference_list = all_model_predictions_np[model_idx, 1, :, node_idx] - all_model_predictions_np[model_idx, 0, :, node_idx]\n",
    "            reduction_difference_list = np.abs(reduction_difference_list)  # Unsigned sensitivity\n",
    "            first_dataset_summed_diffs[model_idx, node_idx] = reduction_difference_list.sum()\n",
    "\n",
    "            addition_difference_list = all_model_predictions_np[model_idx, 2, :, node_idx] - all_model_predictions_np[model_idx, 0, :, node_idx]\n",
    "            addition_difference_list = np.abs(addition_difference_list)\n",
    "            second_dataset_summed_diffs[model_idx, node_idx] = addition_difference_list.sum()\n",
    "\n",
    "            min_change_difference_list = all_model_predictions_np[model_idx, 3, :, node_idx] - all_model_predictions_np[model_idx, 0, :, node_idx]\n",
    "            min_change_difference_list = np.abs(min_change_difference_list)\n",
    "            NA_min_change_summed_diffs[model_idx, node_idx] = min_change_difference_list.sum()\n",
    "        else:\n",
    "            first_dataset_summed_diffs[model_idx, node_idx] = 0\n",
    "            second_dataset_summed_diffs[model_idx, node_idx] = 0\n",
    "            NA_min_change_summed_diffs[model_idx, node_idx] = 0\n",
    "\n",
    "        if node_idx != 0:  # Africa perturbed in this dataset, don't include\n",
    "            africa_difference_list = all_model_predictions_np[model_idx, 4, :, node_idx] - all_model_predictions_np[model_idx, 0, :, node_idx]\n",
    "            africa_difference_list = np.abs(africa_difference_list)\n",
    "            AF_summed_diffs[model_idx, node_idx] = africa_difference_list.sum()\n",
    "        else:\n",
    "            AF_summed_diffs[model_idx, node_idx] = 0"
   ]
  },
  {
   "cell_type": "code",
   "execution_count": null,
   "metadata": {},
   "outputs": [],
   "source": []
  },
  {
   "cell_type": "markdown",
   "metadata": {},
   "source": [
    "## Analyze"
   ]
  },
  {
   "cell_type": "code",
   "execution_count": 27,
   "metadata": {},
   "outputs": [
    {
     "data": {
      "text/plain": [
       "(100, 10)"
      ]
     },
     "execution_count": 27,
     "metadata": {},
     "output_type": "execute_result"
    }
   ],
   "source": [
    "first_dataset_summed_diffs.shape"
   ]
  },
  {
   "cell_type": "code",
   "execution_count": 28,
   "metadata": {},
   "outputs": [],
   "source": [
    "first_dataset_sens_scores = first_dataset_summed_diffs.sum(axis=-1)\n",
    "second_dataset_sens_scores = second_dataset_summed_diffs.sum(axis=-1)\n",
    "NA_min_change_sens_scores = NA_min_change_summed_diffs.sum(axis=-1)\n",
    "AF_sens_scores = AF_summed_diffs.sum(axis=-1)"
   ]
  },
  {
   "cell_type": "code",
   "execution_count": 29,
   "metadata": {},
   "outputs": [
    {
     "name": "stdout",
     "output_type": "stream",
     "text": [
      "(100,)\n",
      "51.819509506225586\n",
      "1.2222824096679688\n"
     ]
    }
   ],
   "source": [
    "print(first_dataset_sens_scores.shape)\n",
    "print(first_dataset_sens_scores.max())\n",
    "print(first_dataset_sens_scores.min())"
   ]
  },
  {
   "cell_type": "code",
   "execution_count": null,
   "metadata": {},
   "outputs": [],
   "source": []
  },
  {
   "cell_type": "code",
   "execution_count": 30,
   "metadata": {},
   "outputs": [],
   "source": [
    "# CONTINENT_NAMES = [\"Africa\", \"North America\", \"South America\", \"Oceania\", \"Eastern Europe\", \"Western Europe\", \"Middle East\", \"South Asia\", \"Southeast Asia\", \"Central Asia\"]\n",
    "sensitivty_scores = []\n",
    "sens_score_type = []\n",
    "\n",
    "t_test_reduc_score_list = []\n",
    "t_test_inc_score_list = []\n",
    "\n",
    "for idx in range(100):\n",
    "    sensitivty_scores.append(NA_min_change_sens_scores[idx])\n",
    "    sens_score_type.append(f\"NA Minimal Flight Change\")\n",
    "    sensitivty_scores.append(second_dataset_sens_scores[idx])\n",
    "    sens_score_type.append(f\"NA 50% Flight Reduction\")\n",
    "    sensitivty_scores.append(first_dataset_sens_scores[idx])\n",
    "    sens_score_type.append(f\"NA 100% Flight Reduction\")\n",
    "    sensitivty_scores.append(AF_sens_scores[idx])\n",
    "    sens_score_type.append(f\"Central Asia 50% Flight Reduction\")\n",
    "    \n",
    "    t_test_reduc_score_list.append(first_dataset_sens_scores[idx])\n",
    "    t_test_inc_score_list.append(second_dataset_sens_scores[idx])"
   ]
  },
  {
   "cell_type": "code",
   "execution_count": 31,
   "metadata": {},
   "outputs": [],
   "source": [
    "from scipy.stats import ttest_ind"
   ]
  },
  {
   "cell_type": "code",
   "execution_count": 32,
   "metadata": {},
   "outputs": [],
   "source": [
    "t_statistic, pval = ttest_ind(t_test_reduc_score_list, t_test_inc_score_list)"
   ]
  },
  {
   "cell_type": "code",
   "execution_count": 33,
   "metadata": {},
   "outputs": [
    {
     "name": "stdout",
     "output_type": "stream",
     "text": [
      "T Test Statistic: 10.196819373758894\n",
      "p-value: 6.811549050228878e-20\n"
     ]
    }
   ],
   "source": [
    "print(\"T Test Statistic:\", t_statistic)\n",
    "print(\"p-value:\", pval)"
   ]
  },
  {
   "cell_type": "code",
   "execution_count": null,
   "metadata": {},
   "outputs": [],
   "source": []
  },
  {
   "cell_type": "code",
   "execution_count": 34,
   "metadata": {},
   "outputs": [
    {
     "data": {
      "text/plain": [
       "400"
      ]
     },
     "execution_count": 34,
     "metadata": {},
     "output_type": "execute_result"
    }
   ],
   "source": [
    "len(sensitivty_scores)"
   ]
  },
  {
   "cell_type": "code",
   "execution_count": 35,
   "metadata": {},
   "outputs": [],
   "source": [
    "# #### Plot distribution of sensitivity scores for both for Eastern Europe ####\n",
    "visual_df = pd.DataFrame({\n",
    "    \"Sensitivity Score\": sensitivty_scores,\n",
    "    \"Perturbation Type\": sens_score_type\n",
    "})\n",
    "\n",
    "# # sns.displot(data=visual_df, x=\"Sensitivity Score\", hue=\"Perturbation Type\", kind=\"hist\")\n",
    "# sns.histplot(data=visual_df, x=\"Sensitivity Score\", hue=\"Perturbation Type\", element=\"step\")\n",
    "# plt.title(\"North America Sensitivity Scores\\nUnder Different Mutations\")\n",
    "# plt.savefig(\"./test_set_analysis_win500_North_America_histogram.png\", bbox_inches=\"tight\", facecolor=\"white\")\n",
    "# plt.show()"
   ]
  },
  {
   "cell_type": "code",
   "execution_count": 36,
   "metadata": {},
   "outputs": [
    {
     "data": {
      "text/plain": [
       "51.819509506225586"
      ]
     },
     "execution_count": 36,
     "metadata": {},
     "output_type": "execute_result"
    }
   ],
   "source": [
    "first_dataset_sens_scores.max()"
   ]
  },
  {
   "cell_type": "code",
   "execution_count": 37,
   "metadata": {},
   "outputs": [
    {
     "data": {
      "text/plain": [
       "[0.6217660903930664,\n",
       " 3.764291524887085,\n",
       " 9.510363340377808,\n",
       " 3.224196672439575,\n",
       " 0.2346053123474121,\n",
       " 1.8348124027252197,\n",
       " 6.771812200546265,\n",
       " 2.3029353618621826,\n",
       " 1.0157537460327148,\n",
       " 6.028403997421265]"
      ]
     },
     "execution_count": 37,
     "metadata": {},
     "output_type": "execute_result"
    }
   ],
   "source": [
    "sensitivty_scores[0:10]"
   ]
  },
  {
   "cell_type": "code",
   "execution_count": 38,
   "metadata": {},
   "outputs": [
    {
     "data": {
      "image/png": "[encoded data removed]",
      "text/plain": [
       "<Figure size 432x288 with 1 Axes>"
      ]
     },
     "metadata": {
      "needs_background": "light"
     },
     "output_type": "display_data"
    }
   ],
   "source": [
    "sns.boxplot(data=visual_df, x=\"Sensitivity Score\", y=\"Perturbation Type\")\n",
    "plt.title(\"Sensitivity Scores\\nUnder Different Mutations\")\n",
    "plt.savefig(\"./test_set_analysis_NAdec50_CA_dec50percent.png\", bbox_inches=\"tight\", facecolor=\"white\")\n",
    "plt.show()"
   ]
  },
  {
   "cell_type": "code",
   "execution_count": null,
   "metadata": {},
   "outputs": [],
   "source": []
  },
  {
   "cell_type": "code",
   "execution_count": 42,
   "metadata": {},
   "outputs": [
    {
     "data": {
      "image/png": "[encoded data removed]",
      "text/plain": [
       "<Figure size 432x288 with 1 Axes>"
      ]
     },
     "metadata": {
      "needs_background": "light"
     },
     "output_type": "display_data"
    }
   ],
   "source": [
    "sensitivty_scores = []\n",
    "sens_score_type = []\n",
    "\n",
    "for idx in range(100):\n",
    "    sensitivty_scores.append(NA_min_change_sens_scores[idx])\n",
    "    sens_score_type.append(f\"NA Minimal Flight Change\")\n",
    "    sensitivty_scores.append(second_dataset_sens_scores[idx])\n",
    "    sens_score_type.append(f\"NA 50% Flight Reduction\")\n",
    "    sensitivty_scores.append(first_dataset_sens_scores[idx])\n",
    "    sens_score_type.append(f\"NA 100% Flight Reduction\")\n",
    "\n",
    "visual_df = pd.DataFrame({\n",
    "    \"Sensitivity Score\": sensitivty_scores,\n",
    "    \"Perturbation Type\": sens_score_type\n",
    "})\n",
    "\n",
    "sns.boxplot(data=visual_df, x=\"Sensitivity Score\", y=\"Perturbation Type\")\n",
    "plt.xlabel(None)\n",
    "plt.ylabel(None)\n",
    "plt.savefig(\"./test_set_analysis_NA_steps.png\", bbox_inches=\"tight\", facecolor=\"white\", dpi=300)\n",
    "plt.show()"
   ]
  },
  {
   "cell_type": "code",
   "execution_count": null,
   "metadata": {},
   "outputs": [],
   "source": []
  },
  {
   "cell_type": "code",
   "execution_count": null,
   "metadata": {},
   "outputs": [],
   "source": []
  }
 ],
 "metadata": {
  "kernelspec": {
   "display_name": "Python 3.8.12 ('gnn')",
   "language": "python",
   "name": "python3"
  },
  "language_info": {
   "codemirror_mode": {
    "name": "ipython",
    "version": 3
   },
   "file_extension": ".py",
   "mimetype": "text/x-python",
   "name": "python",
   "nbconvert_exporter": "python",
   "pygments_lexer": "ipython3",
   "version": "3.8.12"
  },
  "orig_nbformat": 4,
  "vscode": {
   "interpreter": {
    "hash": "43c3ec5cb0d81e7b9f9908a53ca28aa4318265e5d52f388cac911a9765dd2a07"
   }
  }
 },
 "nbformat": 4,
 "nbformat_minor": 2
}
