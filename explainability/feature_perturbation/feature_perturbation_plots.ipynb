{
 "cells": [
  {
   "cell_type": "code",
   "execution_count": null,
   "metadata": {},
   "outputs": [],
   "source": [
    "import os\n",
    "import statistics as st\n",
    "import numpy as np\n",
    "import pandas as pd\n",
    "import seaborn as sns\n",
    "import matplotlib.pyplot as plt\n",
    "from scipy import stats"
   ]
  },
  {
   "cell_type": "code",
   "execution_count": null,
   "metadata": {},
   "outputs": [],
   "source": [
    "continents = [\"Africa\", \"North America\", \"South America\", \"Oceania\", \"Eastern Europe\", \"Western Europe\", \"Middle East\", \"South Asia\", \"Southeast-East Asia\", \"Central Asia\"]\n",
    "ANALYSIS_DIR = \"2022-04-13-21_31_29\"\n",
    "NUM_MODELS = 100\n",
    "MODEL_NAME = \"DCSAGE\"\n",
    "WINDOW_SIZE = 7\n",
    "REC_PRED_LEN = 30"
   ]
  },
  {
   "cell_type": "code",
   "execution_count": null,
   "metadata": {},
   "outputs": [],
   "source": [
    "feature_perturbation_array = np.load(os.path.join(\"./feature-pert-runs\", ANALYSIS_DIR, \"prediction_saves\", \"roll_win_feat_pert_preds.npy\"))\n",
    "feature_perturbation_array.shape"
   ]
  },
  {
   "cell_type": "markdown",
   "metadata": {},
   "source": [
    "Take anti-log of all predictions, need to sum up real values"
   ]
  },
  {
   "cell_type": "code",
   "execution_count": null,
   "metadata": {},
   "outputs": [],
   "source": [
    "feature_perturbation_array = np.power(10, feature_perturbation_array, where=feature_perturbation_array != 0)"
   ]
  },
  {
   "cell_type": "code",
   "execution_count": null,
   "metadata": {},
   "outputs": [],
   "source": []
  },
  {
   "cell_type": "markdown",
   "metadata": {},
   "source": [
    "Load cases over rolling windows"
   ]
  },
  {
   "cell_type": "code",
   "execution_count": null,
   "metadata": {},
   "outputs": [],
   "source": [
    "datasetv19 = np.load(\"./10_continents_dataset_v19_node_pert.npz\")\n",
    "datasetv19.files"
   ]
  },
  {
   "cell_type": "code",
   "execution_count": null,
   "metadata": {},
   "outputs": [],
   "source": [
    "num_cases_matrix = datasetv19['feature_matrix_smooth'][:,:,1]\n",
    "print(num_cases_matrix.max())\n",
    "print(num_cases_matrix.min())\n",
    "print(num_cases_matrix.mean())\n",
    "num_cases_matrix.shape"
   ]
  },
  {
   "cell_type": "code",
   "execution_count": null,
   "metadata": {},
   "outputs": [],
   "source": [
    "# Scale back up to normal scale, cannot sum log values\n",
    "num_cases_matrix = np.power(10, num_cases_matrix, where=num_cases_matrix != 0)"
   ]
  },
  {
   "cell_type": "code",
   "execution_count": null,
   "metadata": {},
   "outputs": [],
   "source": [
    "rollwin_ncases = [num_cases_matrix[idx: idx + 30, :].sum(axis=0) for idx in range(WINDOW_SIZE, len(num_cases_matrix) - 30 - WINDOW_SIZE)]\n",
    "rollwin_ncases = np.array(rollwin_ncases)\n",
    "rollwin_ncases.shape"
   ]
  },
  {
   "cell_type": "code",
   "execution_count": null,
   "metadata": {},
   "outputs": [],
   "source": [
    "# Uncomment if want to log10 transform summation back down to log10 scale\n",
    "# rollwin_ncases = np.log10(rollwin_ncases, where=rollwin_ncases != 0)"
   ]
  },
  {
   "cell_type": "code",
   "execution_count": null,
   "metadata": {},
   "outputs": [],
   "source": []
  },
  {
   "cell_type": "markdown",
   "metadata": {},
   "source": [
    "## Plot 100 model curves of unperturbed, min containment, and max containment"
   ]
  },
  {
   "cell_type": "code",
   "execution_count": null,
   "metadata": {},
   "outputs": [],
   "source": [
    "def global_cases_vs_rolling_windows(feat_pert_arr, plot_type=\"unpert\"):\n",
    "    assert plot_type in [\"unpert\", \"min_containment\", \"max_containment\"]\n",
    "\n",
    "    # Separate our unperturbed, min containment, and max containment\n",
    "    unpert_cases_arr = feat_pert_arr[:,:,0,:,:]  # (523, 100, 30, 10)\n",
    "    min_containment_cases_arr = feat_pert_arr[:,:,1,:,:]\n",
    "    max_containment_cases_arr = feat_pert_arr[:,:,2,:,:]\n",
    "\n",
    "    # Sum over 10 nodes and 30 days within rolling windows -> global cases\n",
    "    unpert_global_cases = unpert_cases_arr.sum(axis=(2,3))  # (523, 100)\n",
    "    min_containment_global_cases = min_containment_cases_arr.sum(axis=(2,3))\n",
    "    max_containment_global_cases = max_containment_cases_arr.sum(axis=(2,3))\n",
    "\n",
    "    # Scale back down to log scale\n",
    "    unpert_global_cases = np.log10(unpert_global_cases, where=unpert_global_cases != 0)\n",
    "    min_containment_global_cases = np.log10(min_containment_global_cases, where=min_containment_global_cases != 0)\n",
    "    max_containment_global_cases = np.log10(max_containment_global_cases, where=max_containment_global_cases != 0)\n",
    "\n",
    "    # Make plot\n",
    "    plt.figure(figsize=(8,8))\n",
    "    if plot_type == \"unpert\":\n",
    "        visual_dict1 = { \"Model {}\".format(i): unpert_global_cases[:,i] for i in range(NUM_MODELS) }\n",
    "        visual_dict1[\"Rolling Window Index\"] = list(range(len(unpert_global_cases)))\n",
    "        visual_df1 = pd.DataFrame(visual_dict1)\n",
    "        sns.lineplot(x='Rolling Window Index', y='value', hue='variable', data=pd.melt(visual_df1, ['Rolling Window Index']), palette=['gray'] * NUM_MODELS)\n",
    "    if plot_type == \"min_containment\":\n",
    "        visual_dict2 = { \"Model {}\".format(i): min_containment_global_cases[:,i] for i in range(NUM_MODELS) }\n",
    "        visual_dict2[\"Rolling Window Index\"] = list(range(len(min_containment_global_cases)))\n",
    "        visual_df2 = pd.DataFrame(visual_dict2)\n",
    "        sns.lineplot(x='Rolling Window Index', y='value', hue='variable', data=pd.melt(visual_df2, ['Rolling Window Index']), palette=['green'] * NUM_MODELS)\n",
    "    if plot_type == \"max_containment\":\n",
    "        visual_dict3 = { \"Model {}\".format(i): max_containment_global_cases[:,i] for i in range(NUM_MODELS) }\n",
    "        visual_dict3[\"Rolling Window Index\"] = list(range(len(max_containment_global_cases)))\n",
    "        visual_df3 = pd.DataFrame(visual_dict3)\n",
    "        sns.lineplot(x='Rolling Window Index', y='value', hue='variable', data=pd.melt(visual_df3, ['Rolling Window Index']), palette=['red'] * NUM_MODELS)\n",
    "\n",
    "    plt.title(\"{} {} Models Global Cases vs Rolling Window\".format(MODEL_NAME, NUM_MODELS))\n",
    "    plt.ylim([5, 7.5])\n",
    "    plt.legend().remove()\n",
    "    plt.savefig(\"./global_cases_vs_rolling_window_{}_models_{}.png\".format(NUM_MODELS, plot_type), bbox_inches='tight', facecolor='white')\n",
    "    plt.clf()\n",
    "    plt.close()"
   ]
  },
  {
   "cell_type": "code",
   "execution_count": null,
   "metadata": {},
   "outputs": [],
   "source": [
    "global_cases_vs_rolling_windows(feature_perturbation_array, plot_type=\"unpert\")\n",
    "global_cases_vs_rolling_windows(feature_perturbation_array, plot_type=\"min_containment\")\n",
    "global_cases_vs_rolling_windows(feature_perturbation_array, plot_type=\"max_containment\")"
   ]
  },
  {
   "cell_type": "code",
   "execution_count": null,
   "metadata": {},
   "outputs": [],
   "source": []
  },
  {
   "cell_type": "markdown",
   "metadata": {},
   "source": [
    "## Fitting Normal and EV distribution on rolling windows to see good fit"
   ]
  },
  {
   "cell_type": "code",
   "execution_count": null,
   "metadata": {},
   "outputs": [],
   "source": [
    "def kl_divergence(p, q):\n",
    "\treturn sum(p[i] * np.log2(p[i]/q[i]) for i in range(len(p)))"
   ]
  },
  {
   "cell_type": "code",
   "execution_count": null,
   "metadata": {},
   "outputs": [],
   "source": [
    "containment_idx = 2\n",
    "cases_arr = feature_perturbation_array[:,:,containment_idx,:,:]  # (523, 100, 30, 10)\n",
    "global_cases = cases_arr.sum(axis=(2,3))  # Sum over 10 nodes and 30 days within rolling windows -> global cases (523, 100)"
   ]
  },
  {
   "cell_type": "code",
   "execution_count": null,
   "metadata": {},
   "outputs": [],
   "source": [
    "# Fit several distributions per window and node, see which gives lowest KL-Divergence\n",
    "distributions = ['gumbel_l', 'norm']\n",
    "roll_win_list = []\n",
    "\n",
    "for roll_win in range(len(global_cases)):\n",
    "    if roll_win % 50 == 0:\n",
    "        print(\"Rolling window\", roll_win)\n",
    "    \n",
    "    distrib_KL_diverg_scores = []\n",
    "    for distrib_name in distributions:\n",
    "        values = global_cases[roll_win].flatten()\n",
    "        distribution = getattr(stats, distrib_name)\n",
    "        parameters = distribution.fit(values)\n",
    "\n",
    "        # Getting empirical probabilities from seaborn histplot bins\n",
    "        fig = sns.histplot(x=global_cases[roll_win].flatten(), kde=True, stat=\"probability\")\n",
    "        xvals, empirical_probs = fig.get_lines()[0].get_data()\n",
    "        if distrib_name == \"gumbel_l\" or distrib_name == \"gumbel_r\" or distrib_name == \"norm\":\n",
    "            theoretical_probs = distribution.pdf(xvals, loc=parameters[0], scale=parameters[1])\n",
    "        else:\n",
    "            raise Exception(\"Unknown distribution specified:\")\n",
    "        plt.clf()\n",
    "\n",
    "        # Replace zeros with a small value, qk cannot be zero\n",
    "        empirical_probs[empirical_probs == 0] = 0.001\n",
    "        theoretical_probs[theoretical_probs == 0] = 0.001\n",
    "        kl_diverg = kl_divergence(p=empirical_probs, q=theoretical_probs)\n",
    "        distrib_KL_diverg_scores.append(kl_diverg)\n",
    "    \n",
    "    idx_min_KL_diverg = distrib_KL_diverg_scores.index(min(distrib_KL_diverg_scores))\n",
    "    roll_win_list.append(distributions[idx_min_KL_diverg])"
   ]
  },
  {
   "cell_type": "code",
   "execution_count": null,
   "metadata": {},
   "outputs": [],
   "source": [
    "distrib_counts = { \"gumbel_l\": 0, \"norm\": 0 }\n",
    "for roll_win in range(len(roll_win_list)):\n",
    "    distrib_counts[roll_win_list[roll_win]] += 1\n",
    "\n",
    "distrib_counts"
   ]
  },
  {
   "cell_type": "markdown",
   "metadata": {},
   "source": [
    "Distribution best fit counts unperturbed: <br/>\n",
    "{'gumbel_l': 91, 'norm': 432} <br/>\n",
    "\n",
    "Distribution best fit counts min containment: <br/>\n",
    "{'gumbel_l': 397, 'norm': 126} <br/>\n",
    "\n",
    "Distribution best fit counts max containment: <br/>\n",
    "{'gumbel_l': 113, 'norm': 410}"
   ]
  },
  {
   "cell_type": "code",
   "execution_count": null,
   "metadata": {},
   "outputs": [],
   "source": [
    "print(91 + 397 + 113)\n",
    "print(432 + 126 + 410)"
   ]
  },
  {
   "cell_type": "code",
   "execution_count": null,
   "metadata": {},
   "outputs": [],
   "source": []
  },
  {
   "cell_type": "code",
   "execution_count": null,
   "metadata": {},
   "outputs": [],
   "source": [
    "unpert_distrib_save_path = os.path.join(\"./feature-pert-runs\", ANALYSIS_DIR, \"roll_win_distribs_unpert\")\n",
    "if not os.path.exists(unpert_distrib_save_path):\n",
    "    os.mkdir(unpert_distrib_save_path)\n",
    "\n",
    "min_cont_distrib_save_path = os.path.join(\"./feature-pert-runs\", ANALYSIS_DIR, \"roll_win_distribs_min_cont\")\n",
    "if not os.path.exists(min_cont_distrib_save_path):\n",
    "    os.mkdir(min_cont_distrib_save_path)\n",
    "\n",
    "max_cont_distrib_save_path = os.path.join(\"./feature-pert-runs\", ANALYSIS_DIR, \"roll_win_distribs_max_cont\")\n",
    "if not os.path.exists(max_cont_distrib_save_path):\n",
    "    os.mkdir(max_cont_distrib_save_path)"
   ]
  },
  {
   "cell_type": "code",
   "execution_count": null,
   "metadata": {},
   "outputs": [],
   "source": [
    "FIT_NORMAL = True"
   ]
  },
  {
   "cell_type": "code",
   "execution_count": null,
   "metadata": {},
   "outputs": [],
   "source": [
    "def fit_parameters(feature_perturbation_array, containment_type_idx=0):\n",
    "    assert containment_type_idx in [0, 1, 2]  # 0 is unpert, 1 is min containment, 2 is max containment\n",
    "    cases_arr = feature_perturbation_array[:,:,containment_type_idx,:,:]  # (523, 100, 30, 10)\n",
    "    global_cases = cases_arr.sum(axis=(2,3))  # Sum over 10 nodes and 30 days within rolling windows -> global cases (523, 100)\n",
    "\n",
    "    roll_win_loc_params = []\n",
    "    roll_win_scale_params = []\n",
    "    for roll_win in range(len(global_cases)):\n",
    "        values = global_cases[roll_win,:]\n",
    "        if FIT_NORMAL:\n",
    "            params = stats.norm.fit(values)\n",
    "        else:\n",
    "            # params = stats.gumbel_l.fit(values)\n",
    "            params = stats.gumbel_r.fit(values)\n",
    "        \n",
    "        roll_win_loc_params.append(params[0])\n",
    "        roll_win_scale_params.append(params[1])\n",
    "    \n",
    "    return np.array(roll_win_loc_params), np.array(roll_win_scale_params)"
   ]
  },
  {
   "cell_type": "code",
   "execution_count": null,
   "metadata": {},
   "outputs": [],
   "source": [
    "# unpert_roll_win_loc_params, unpert_roll_win_scale_params = fit_parameters(feature_perturbation_array, containment_type_idx=0)\n",
    "# min_cont_roll_win_loc_params, min_cont_roll_win_scale_params = fit_parameters(feature_perturbation_array, containment_type_idx=1)\n",
    "# max_cont_roll_win_loc_params, max_cont_roll_win_scale_params = fit_parameters(feature_perturbation_array, containment_type_idx=2)\n",
    "\n",
    "containment_idx = 0\n",
    "roll_win_loc_params, roll_win_scale_params = fit_parameters(feature_perturbation_array, containment_type_idx=containment_idx)\n",
    "\n",
    "cases_arr = feature_perturbation_array[:,:,containment_idx,:,:]  # (523, 100, 30, 10)\n",
    "global_cases = cases_arr.sum(axis=(2,3))  # Sum over 10 nodes and 30 days within rolling windows -> global cases (523, 100)"
   ]
  },
  {
   "cell_type": "code",
   "execution_count": null,
   "metadata": {},
   "outputs": [],
   "source": []
  },
  {
   "cell_type": "code",
   "execution_count": null,
   "metadata": {},
   "outputs": [],
   "source": [
    "# Plot distribution on each window\n",
    "for single_window_idx in range(0, len(global_cases), 50):\n",
    "    max_val, min_val = global_cases[single_window_idx].max(), global_cases[single_window_idx].min()\n",
    "    x = np.linspace(max_val + 50, min_val - 50, 100)\n",
    "\n",
    "    if FIT_NORMAL:\n",
    "        plt.plot(x, stats.norm.pdf(x, roll_win_loc_params[single_window_idx], roll_win_scale_params[single_window_idx]), 'r-', label='Normal pdf')\n",
    "    else:\n",
    "        # plt.plot(x, stats.gumbel_l.pdf(x, roll_win_loc_params[single_window_idx, single_country_idx], roll_win_scale_params[single_window_idx, single_country_idx]), 'r-', label='EV pdf')\n",
    "        plt.plot(x, stats.gumbel_r.pdf(x, roll_win_loc_params[single_window_idx], roll_win_scale_params[single_window_idx]), 'r-', label='EV pdf')\n",
    "    \n",
    "    sns.histplot(x=global_cases[single_window_idx].flatten(), stat=\"density\", label=\"Global Summed Cases\")\n",
    "    \n",
    "    mean = np.mean(global_cases[single_window_idx].flatten())\n",
    "    median = np.median(global_cases[single_window_idx].flatten())\n",
    "    std = np.std(global_cases[single_window_idx].flatten())\n",
    "\n",
    "    if FIT_NORMAL:\n",
    "        title = \"Normal Distribution fitted on window {}\\nMean: {:.4f}, Median: {:.4f}, STD: {:.4f}\".format(single_window_idx, mean, median, std)\n",
    "        plt.title(title)\n",
    "        plt.savefig(\"./normal_unfiltered_fit_win{}_cont_idx_{}.png\".format(single_window_idx, containment_idx), bbox_inches=\"tight\", facecolor=\"white\")\n",
    "    else:\n",
    "        title = \"EV Distribution fitted on window {}\\nMean: {:.4f}, Median: {:.4f}, STD: {:.4f}\".format(single_window_idx, mean, median, std)\n",
    "        plt.title(title)\n",
    "        plt.savefig(\"./ev_unfiltered_fit_win{}_cont_idx_{}.png\".format(single_window_idx, containment_idx), bbox_inches=\"tight\", facecolor=\"white\")\n",
    "    \n",
    "    # plt.show()\n",
    "    plt.clf()"
   ]
  },
  {
   "cell_type": "code",
   "execution_count": null,
   "metadata": {},
   "outputs": [],
   "source": []
  },
  {
   "cell_type": "code",
   "execution_count": null,
   "metadata": {},
   "outputs": [],
   "source": []
  },
  {
   "cell_type": "code",
   "execution_count": null,
   "metadata": {},
   "outputs": [],
   "source": []
  },
  {
   "cell_type": "markdown",
   "metadata": {},
   "source": [
    "## Plot Raw Global Cases Sum vs Rolling Window Trend Plot"
   ]
  },
  {
   "cell_type": "code",
   "execution_count": null,
   "metadata": {},
   "outputs": [],
   "source": [
    "rollwin_ncases.shape"
   ]
  },
  {
   "cell_type": "code",
   "execution_count": null,
   "metadata": {},
   "outputs": [],
   "source": [
    "def global_cases_vs_rolling_windows(feat_pert_arr):\n",
    "    # Separate our unperturbed, min containment, and max containment\n",
    "    unpert_cases_arr = feat_pert_arr[:,:,0,:,:]  # (523, 100, 30, 10)\n",
    "    min_containment_cases_arr = feat_pert_arr[:,:,1,:,:]\n",
    "    max_containment_cases_arr = feat_pert_arr[:,:,2,:,:]\n",
    "\n",
    "    # Sum over 10 nodes and 30 days within rolling windows -> global cases\n",
    "    unpert_global_cases = unpert_cases_arr.sum(axis=(2,3))  # (523, 100)\n",
    "    min_containment_global_cases = min_containment_cases_arr.sum(axis=(2,3))\n",
    "    max_containment_global_cases = max_containment_cases_arr.sum(axis=(2,3))\n",
    "\n",
    "    # Average over 100 models - Normal distribution fits better\n",
    "    unpert_global_cases = unpert_global_cases.mean(axis=1)\n",
    "    min_containment_global_cases = min_containment_global_cases.mean(axis=1)\n",
    "    max_containment_global_cases = max_containment_global_cases.mean(axis=1)\n",
    "    # unpert_global_cases = np.median(unpert_global_cases, axis=1)\n",
    "    # min_containment_global_cases = np.median(min_containment_global_cases, axis=1)\n",
    "    # max_containment_global_cases = np.median(max_containment_global_cases, axis=1)\n",
    "    x_values = list(range(len(unpert_global_cases)))\n",
    "\n",
    "    # Scale back down to log scale\n",
    "    unpert_global_cases = np.log10(unpert_global_cases, where=unpert_global_cases != 0)\n",
    "    min_containment_global_cases = np.log10(min_containment_global_cases, where=min_containment_global_cases != 0)\n",
    "    max_containment_global_cases = np.log10(max_containment_global_cases, where=max_containment_global_cases != 0)\n",
    "\n",
    "    # Get rolling window ground truth cases: sum up over 10 nodes in (523, 10)\n",
    "    summed_gt_cases = rollwin_ncases.sum(axis=1)\n",
    "    # Scale ground truth cases back down to log10 scale\n",
    "    summed_gt_cases = np.log10(summed_gt_cases, where=summed_gt_cases != 0)\n",
    "\n",
    "    plt.figure(figsize=(8,8))\n",
    "    sns.lineplot(x=x_values, y=unpert_global_cases, label=\"Unperturbed Global Cases Sum\", color=\"gray\")\n",
    "    sns.lineplot(x=x_values, y=min_containment_global_cases, label=\"Min Containment Global Cases Sum\", color=\"red\")\n",
    "    sns.lineplot(x=x_values, y=max_containment_global_cases, label=\"Max Containment Global Cases Sum\", color=\"green\")\n",
    "    sns.lineplot(x=x_values, y=summed_gt_cases, label=\"Ground Truth Global Cases Sum\", linewidth=4, color=\"orange\")\n",
    "    plt.title(\"{} {} Models Global Cases vs Rolling Window\".format(MODEL_NAME, NUM_MODELS))\n",
    "    plt.xlabel(\"Rolling Window Index\")\n",
    "    plt.ylabel(\"Global Summed Cases (Log10 Scale)\")\n",
    "    plt.savefig(\"./global_cases_vs_rolling_window.png\", bbox_inches='tight', facecolor='white')\n",
    "    plt.clf()\n",
    "    plt.close()"
   ]
  },
  {
   "cell_type": "code",
   "execution_count": null,
   "metadata": {},
   "outputs": [],
   "source": [
    "global_cases_vs_rolling_windows(feature_perturbation_array)"
   ]
  },
  {
   "cell_type": "code",
   "execution_count": null,
   "metadata": {},
   "outputs": [],
   "source": []
  },
  {
   "cell_type": "markdown",
   "metadata": {},
   "source": [
    "## Plot Continent-Wise Cases vs Rolling Windows"
   ]
  },
  {
   "cell_type": "code",
   "execution_count": null,
   "metadata": {},
   "outputs": [],
   "source": [
    "def continent_cases_vs_rolling_windows(feat_pert_arr):\n",
    "    # Separate our unperturbed, min containment, and max containment\n",
    "    unpert_cases_arr = feat_pert_arr[:,:,0,:,:]  # (523, 100, 30, 10)\n",
    "    min_containment_cases_arr = feat_pert_arr[:,:,1,:,:]\n",
    "    max_containment_cases_arr = feat_pert_arr[:,:,2,:,:]\n",
    "\n",
    "    # Sum over 10 nodes and 30 days within rolling windows -> global cases\n",
    "    unpert_global_cases = unpert_cases_arr.sum(axis=(2))  # (523, 100, 10)\n",
    "    min_containment_global_cases = min_containment_cases_arr.sum(axis=(2))\n",
    "    max_containment_global_cases = max_containment_cases_arr.sum(axis=(2))\n",
    "\n",
    "    # Average over 100 models - Normal distribution fits better\n",
    "    unpert_global_cases = unpert_global_cases.mean(axis=1)  # (523, 10)\n",
    "    min_containment_global_cases = min_containment_global_cases.mean(axis=1)\n",
    "    max_containment_global_cases = max_containment_global_cases.mean(axis=1)\n",
    "    x_values = list(range(len(unpert_global_cases)))\n",
    "\n",
    "    # Scale back down to log scale\n",
    "    unpert_global_cases = np.log10(unpert_global_cases, where=unpert_global_cases != 0)\n",
    "    min_containment_global_cases = np.log10(min_containment_global_cases, where=min_containment_global_cases != 0)\n",
    "    max_containment_global_cases = np.log10(max_containment_global_cases, where=max_containment_global_cases != 0)\n",
    "\n",
    "    # Get Ground Truth Cases\n",
    "    rollwin_ncases_log10 = np.log10(rollwin_ncases, where=rollwin_ncases != 0)  # (523, 10)\n",
    "\n",
    "    fig, ax = plt.subplots(nrows=2, ncols=5, figsize=(40, 16))\n",
    "    fig.suptitle(\"{} Continent-Wise Summed Cases vs Rolling Windows\".format(MODEL_NAME), fontsize= 30)\n",
    "\n",
    "    idx = 0\n",
    "    for row in ax:\n",
    "        for col in row:\n",
    "            sns.lineplot(ax=col, x=x_values, y=unpert_global_cases[:,idx], label=\"Unperturbed Continent Cases Sum\", color=\"gray\")\n",
    "            sns.lineplot(ax=col, x=x_values, y=min_containment_global_cases[:,idx], label=\"Min Containment Summed Continent Cases\", color=\"red\")\n",
    "            sns.lineplot(ax=col, x=x_values, y=max_containment_global_cases[:,idx], label=\"Max Containment Summed Continent Cases\", color=\"green\")\n",
    "            sns.lineplot(ax=col, x=x_values, y=rollwin_ncases_log10[:,idx], label=\"Ground Truth Summed Continent Cases\", linewidth=4, color=\"orange\")\n",
    "            col.set_title(continents[idx])\n",
    "            col.set_xlabel(\"Rolling Window Index\")\n",
    "            col.set_ylabel(\"Global Summed Cases (Log10 Scale)\")\n",
    "            col.set_ylim([2.5,7.5])\n",
    "            idx += 1\n",
    "    plt.savefig(\"./continent_cases_vs_rolling_window.png\", bbox_inches='tight', facecolor='white')\n",
    "    plt.clf()\n",
    "    plt.close()"
   ]
  },
  {
   "cell_type": "code",
   "execution_count": null,
   "metadata": {},
   "outputs": [],
   "source": [
    "continent_cases_vs_rolling_windows(feature_perturbation_array)"
   ]
  },
  {
   "cell_type": "code",
   "execution_count": null,
   "metadata": {},
   "outputs": [],
   "source": []
  },
  {
   "cell_type": "code",
   "execution_count": null,
   "metadata": {},
   "outputs": [],
   "source": [
    "def continent_cases_percent_change_vs_rolling_windows(feat_pert_arr):\n",
    "    # Separate our unperturbed, min containment, and max containment\n",
    "    unpert_cases_arr = feat_pert_arr[:,:,0,:,:]  # (523, 100, 30, 10)\n",
    "    min_containment_cases_arr = feat_pert_arr[:,:,1,:,:]\n",
    "    max_containment_cases_arr = feat_pert_arr[:,:,2,:,:]\n",
    "\n",
    "    # Sum over 10 nodes and 30 days within rolling windows -> global cases\n",
    "    unpert_global_cases = unpert_cases_arr.sum(axis=(2))  # (523, 100, 10)\n",
    "    min_containment_global_cases = min_containment_cases_arr.sum(axis=(2))\n",
    "    max_containment_global_cases = max_containment_cases_arr.sum(axis=(2))\n",
    "\n",
    "    # Average over 100 models - Normal distribution fits better\n",
    "    unpert_global_cases = unpert_global_cases.mean(axis=1)  # (523, 10)\n",
    "    min_containment_global_cases = min_containment_global_cases.mean(axis=1)\n",
    "    max_containment_global_cases = max_containment_global_cases.mean(axis=1)\n",
    "    x_values = list(range(len(unpert_global_cases)))\n",
    "\n",
    "    # Scale back down to log scale\n",
    "    unpert_global_cases = np.log10(unpert_global_cases, where=unpert_global_cases != 0)\n",
    "    min_containment_global_cases = np.log10(min_containment_global_cases, where=min_containment_global_cases != 0)\n",
    "    max_containment_global_cases = np.log10(max_containment_global_cases, where=max_containment_global_cases != 0)\n",
    "\n",
    "    # Get percent changes\n",
    "    min_cont_percent_changes = min_containment_global_cases - unpert_global_cases\n",
    "    min_cont_percent_changes /= unpert_global_cases\n",
    "    max_cont_percent_changes = max_containment_global_cases - unpert_global_cases\n",
    "    max_cont_percent_changes /= unpert_global_cases\n",
    "\n",
    "    fig, ax = plt.subplots(nrows=2, ncols=5, figsize=(40, 16))\n",
    "    fig.suptitle(\"{} Continent-Wise Percent Change in Cases vs Rolling Windows\".format(MODEL_NAME), fontsize= 30)\n",
    "\n",
    "    idx = 0\n",
    "    for row in ax:\n",
    "        for col in row:\n",
    "            sns.lineplot(ax=col, x=x_values, y=min_cont_percent_changes[:,idx], label=\"Min Containment Percent Change\", color=\"red\")\n",
    "            sns.lineplot(ax=col, x=x_values, y=max_cont_percent_changes[:,idx], label=\"Max Containment Percent Change\", color=\"green\")\n",
    "            col.set_title(continents[idx])\n",
    "            col.set_xlabel(\"Rolling Window Index\")\n",
    "            col.set_ylabel(\"Global Summed Cases (Log10 Scale)\")\n",
    "            # col.set_ylim([2.5,7.5])\n",
    "            idx += 1\n",
    "    plt.savefig(\"./continent_percent_change_vs_rolling_window.png\", bbox_inches='tight', facecolor='white')\n",
    "    plt.clf()\n",
    "    plt.close()"
   ]
  },
  {
   "cell_type": "code",
   "execution_count": null,
   "metadata": {},
   "outputs": [],
   "source": [
    "continent_cases_percent_change_vs_rolling_windows(feature_perturbation_array)"
   ]
  },
  {
   "cell_type": "code",
   "execution_count": null,
   "metadata": {},
   "outputs": [],
   "source": []
  },
  {
   "cell_type": "code",
   "execution_count": null,
   "metadata": {},
   "outputs": [],
   "source": [
    "unpert_cases_arr = feature_perturbation_array[:,:,0,:,:]  # (523, 100, 30, 10)\n",
    "min_containment_cases_arr = feature_perturbation_array[:,:,1,:,:]\n",
    "max_containment_cases_arr = feature_perturbation_array[:,:,2,:,:]\n",
    "\n",
    "# Sum over 10 nodes and 30 days within rolling windows -> global cases\n",
    "unpert_global_cases = unpert_cases_arr.sum(axis=(2,3))  # (523, 100)\n",
    "min_containment_global_cases = min_containment_cases_arr.sum(axis=(2,3))\n",
    "max_containment_global_cases = max_containment_cases_arr.sum(axis=(2,3))\n",
    "\n",
    "# Average over 100 models - Normal distribution fits better\n",
    "unpert_global_cases = unpert_global_cases.mean(axis=1)\n",
    "min_containment_global_cases = min_containment_global_cases.mean(axis=1)\n",
    "max_containment_global_cases = max_containment_global_cases.mean(axis=1)\n",
    "# unpert_global_cases = np.median(unpert_global_cases, axis=1)\n",
    "# min_containment_global_cases = np.median(min_containment_global_cases, axis=1)\n",
    "# max_containment_global_cases = np.median(max_containment_global_cases, axis=1)"
   ]
  },
  {
   "cell_type": "code",
   "execution_count": null,
   "metadata": {},
   "outputs": [],
   "source": [
    "temp_idx = 100\n",
    "print(unpert_global_cases[temp_idx], min_containment_global_cases[temp_idx], max_containment_global_cases[temp_idx])"
   ]
  },
  {
   "cell_type": "code",
   "execution_count": null,
   "metadata": {},
   "outputs": [],
   "source": []
  }
 ],
 "metadata": {
  "interpreter": {
   "hash": "43c3ec5cb0d81e7b9f9908a53ca28aa4318265e5d52f388cac911a9765dd2a07"
  },
  "kernelspec": {
   "display_name": "Python 3.8.12 ('gnn')",
   "language": "python",
   "name": "python3"
  },
  "language_info": {
   "codemirror_mode": {
    "name": "ipython",
    "version": 3
   },
   "file_extension": ".py",
   "mimetype": "text/x-python",
   "name": "python",
   "nbconvert_exporter": "python",
   "pygments_lexer": "ipython3",
   "version": "3.8.12"
  },
  "orig_nbformat": 4
 },
 "nbformat": 4,
 "nbformat_minor": 2
}
